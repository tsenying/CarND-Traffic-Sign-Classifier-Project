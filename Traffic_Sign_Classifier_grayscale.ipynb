{
 "cells": [
  {
   "cell_type": "markdown",
   "metadata": {
    "deletable": true,
    "editable": true
   },
   "source": [
    "# Self-Driving Car Engineer Nanodegree\n",
    "\n",
    "## Deep Learning\n",
    "\n",
    "## Project: Build a Traffic Sign Recognition Classifier\n",
    "\n",
    "In this notebook, a template is provided for you to implement your functionality in stages which is required to successfully complete this project. If additional code is required that cannot be included in the notebook, be sure that the Python code is successfully imported and included in your submission, if necessary. Sections that begin with **'Implementation'** in the header indicate where you should begin your implementation for your project. Note that some sections of implementation are optional, and will be marked with **'Optional'** in the header.\n",
    "\n",
    "In addition to implementing code, there will be questions that you must answer which relate to the project and your implementation. Each section where you will answer a question is preceded by a **'Question'** header. Carefully read each question and provide thorough answers in the following text boxes that begin with **'Answer:'**. Your project submission will be evaluated based on your answers to each of the questions and the implementation you provide.\n",
    "\n",
    ">**Note:** Code and Markdown cells can be executed using the **Shift + Enter** keyboard shortcut. In addition, Markdown cells can be edited by typically double-clicking the cell to enter edit mode."
   ]
  },
  {
   "cell_type": "markdown",
   "metadata": {
    "deletable": true,
    "editable": true
   },
   "source": [
    "---\n",
    "## Step 0: Load The Data"
   ]
  },
  {
   "cell_type": "code",
   "execution_count": 1,
   "metadata": {
    "collapsed": false,
    "deletable": true,
    "editable": true
   },
   "outputs": [],
   "source": [
    "# Load pickled data\n",
    "import pickle\n",
    "\n",
    "# TODO: Fill this in based on where you saved the training and testing data\n",
    "\n",
    "training_file = \"../traffic-signs-data/train.p\"\n",
    "testing_file = \"../traffic-signs-data/test.p\"\n",
    "\n",
    "with open(training_file, mode='rb') as f:\n",
    "    train = pickle.load(f)\n",
    "with open(testing_file, mode='rb') as f:\n",
    "    test = pickle.load(f)\n",
    "    \n",
    "X_train, y_train = train['features'], train['labels']\n",
    "X_test, y_test = test['features'], test['labels']"
   ]
  },
  {
   "cell_type": "code",
   "execution_count": 2,
   "metadata": {
    "collapsed": false,
    "deletable": true,
    "editable": true
   },
   "outputs": [
    {
     "name": "stdout",
     "output_type": "stream",
     "text": [
      "X_train.shape=(39209, 32, 32, 3), y_train.shape=(39209,)\n",
      "X_test.shape=(12630, 32, 32, 3), y_test.shape=(12630,)\n",
      "X_train len=39209\n",
      "X_train image shape=(32, 32, 3)\n",
      "Image Shape: (32, 32, 3)\n"
     ]
    }
   ],
   "source": [
    "print('X_train.shape={}, y_train.shape={}'.format(X_train.shape, y_train.shape))\n",
    "print('X_test.shape={}, y_test.shape={}'.format(X_test.shape, y_test.shape))\n",
    "print('X_train len={}'.format(X_train.shape[0]))\n",
    "print('X_train image shape={}'.format(X_train.shape[1:4]))\n",
    "print(\"Image Shape: {}\".format(X_train[0].shape))"
   ]
  },
  {
   "cell_type": "code",
   "execution_count": 3,
   "metadata": {
    "collapsed": false,
    "deletable": true,
    "editable": true
   },
   "outputs": [
    {
     "name": "stdout",
     "output_type": "stream",
     "text": [
      "X_train[0].shape=(32, 32, 3), X_train[0]=[[75 78 80]\n",
      " [74 76 78]\n",
      " [83 84 83]]\n"
     ]
    }
   ],
   "source": [
    "print('X_train[0].shape={}, X_train[0]={}'.format(X_train[0].shape, X_train[0][0][0:3]))"
   ]
  },
  {
   "cell_type": "code",
   "execution_count": 4,
   "metadata": {
    "collapsed": false,
    "deletable": true,
    "editable": true
   },
   "outputs": [],
   "source": [
    "assert(len(X_train) == len(y_train))\n",
    "assert(len(X_test) == len(y_test))"
   ]
  },
  {
   "cell_type": "code",
   "execution_count": 5,
   "metadata": {
    "collapsed": false,
    "deletable": true,
    "editable": true
   },
   "outputs": [
    {
     "name": "stdout",
     "output_type": "stream",
     "text": [
      "labels=[ 0  1  2  3  4  5  6  7  8  9 10 11 12 13 14 15 16 17 18 19 20 21 22 23 24\n",
      " 25 26 27 28 29 30 31 32 33 34 35 36 37 38 39 40 41 42]\n",
      "labels_counts=[ 210 2220 2250 1410 1980 1860  420 1440 1410 1470 2010 1320 2100 2160  780\n",
      "  630  420 1110 1200  210  360  330  390  510  270 1500  600  240  540  270\n",
      "  450  780  240  689  420 1200  390  210 2070  300  360  240  240]\n",
      "labels_indices=[    0   210  2430  4680  6090  8070  9930 10350 11790 13200 14670 16680\n",
      " 18000 20100 22260 23040 23670 24090 25200 26400 26610 26970 27300 27690\n",
      " 28200 28470 29970 30570 30810 31350 31620 32070 32850 33090 33779 34199\n",
      " 35399 35789 35999 38069 38369 38729 38969]\n",
      "num unique labels=43\n",
      "num labels=39209\n"
     ]
    }
   ],
   "source": [
    "import numpy as np\n",
    "labels, labels_indices, labels_counts = np.unique(y_train, return_index=True, return_counts=True)\n",
    "print('labels={}'.format(labels))\n",
    "print('labels_counts={}'.format(labels_counts))\n",
    "print('labels_indices={}'.format(labels_indices))\n",
    "print('num unique labels={}'.format(labels.shape[0]))\n",
    "print('num labels={}'.format(labels_counts.sum()))"
   ]
  },
  {
   "cell_type": "code",
   "execution_count": 6,
   "metadata": {
    "collapsed": false,
    "deletable": true,
    "editable": true
   },
   "outputs": [
    {
     "name": "stdout",
     "output_type": "stream",
     "text": [
      "train_sizes.shape=(39209, 2), train_coords.shape=(39209, 4)\n",
      "train_sizes[0:5]=[[29 30]\n",
      " [30 30]\n",
      " [30 30]\n",
      " [31 31]\n",
      " [30 32]], train_coords[0:5]=[[ 5  6 24 25]\n",
      " [ 5  5 25 25]\n",
      " [ 5  5 25 25]\n",
      " [ 5  5 26 26]\n",
      " [ 5  6 25 26]]\n"
     ]
    }
   ],
   "source": [
    "# the example files have four sets of data\n",
    "# features: rgb values for 32x32 images\n",
    "# labels: a number denoting the feature class\n",
    "# sizes: original individual example image size\n",
    "# coords: bounding box of actual traffic sign in image, top-left and bottom-right corners\n",
    "# sizes and coords are probably not relevant to solving this project\n",
    "train_sizes, train_coords = train['sizes'], train['coords']\n",
    "print('train_sizes.shape={}, train_coords.shape={}'.format(train_sizes.shape, train_coords.shape))\n",
    "print('train_sizes[0:5]={}, train_coords[0:5]={}'.format(train_sizes[0:5], train_coords[0:5]))"
   ]
  },
  {
   "cell_type": "markdown",
   "metadata": {
    "deletable": true,
    "editable": true
   },
   "source": [
    "---\n",
    "\n",
    "## Step 1: Dataset Summary & Exploration\n",
    "\n",
    "The pickled data is a dictionary with 4 key/value pairs:\n",
    "\n",
    "- `'features'` is a 4D array containing raw pixel data of the traffic sign images, (num examples, width, height, channels).\n",
    "- `'labels'` is a 1D array containing the label/class id of the traffic sign. The file `signnames.csv` contains id -> name mappings for each id.\n",
    "- `'sizes'` is a list containing tuples, (width, height) representing the the original width and height the image.\n",
    "- `'coords'` is a list containing tuples, (x1, y1, x2, y2) representing coordinates of a bounding box around the sign in the image. **THESE COORDINATES ASSUME THE ORIGINAL IMAGE. THE PICKLED DATA CONTAINS RESIZED VERSIONS (32 by 32) OF THESE IMAGES**\n",
    "\n",
    "Complete the basic data summary below."
   ]
  },
  {
   "cell_type": "code",
   "execution_count": 7,
   "metadata": {
    "collapsed": false,
    "deletable": true,
    "editable": true
   },
   "outputs": [
    {
     "name": "stdout",
     "output_type": "stream",
     "text": [
      "Number of training examples = 39209\n",
      "Number of testing examples = 12630\n",
      "Image data shape = (32, 32)\n",
      "Number of classes = 43\n"
     ]
    }
   ],
   "source": [
    "### Replace each question mark with the appropriate value.\n",
    "\n",
    "# TODO: Number of training examples\n",
    "n_train = X_train.shape[0]\n",
    "\n",
    "# TODO: Number of testing examples.\n",
    "n_test = X_test.shape[0]\n",
    "\n",
    "# TODO: What's the shape of an traffic sign image?\n",
    "image_shape = X_train.shape[1:3]\n",
    "\n",
    "# TODO: How many unique classes/labels there are in the dataset.\n",
    "n_classes = labels.shape[0]\n",
    "\n",
    "print(\"Number of training examples =\", n_train)\n",
    "print(\"Number of testing examples =\", n_test)\n",
    "print(\"Image data shape =\", image_shape)\n",
    "print(\"Number of classes =\", n_classes)"
   ]
  },
  {
   "cell_type": "markdown",
   "metadata": {
    "deletable": true,
    "editable": true
   },
   "source": [
    "Visualize the German Traffic Signs Dataset using the pickled file(s). This is open ended, suggestions include: plotting traffic sign images, plotting the count of each sign, etc.\n",
    "\n",
    "The [Matplotlib](http://matplotlib.org/) [examples](http://matplotlib.org/examples/index.html) and [gallery](http://matplotlib.org/gallery.html) pages are a great resource for doing visualizations in Python.\n",
    "\n",
    "**NOTE:** It's recommended you start with something simple first. If you wish to do more, come back to it after you've completed the rest of the sections."
   ]
  },
  {
   "cell_type": "code",
   "execution_count": 8,
   "metadata": {
    "collapsed": false,
    "deletable": true,
    "editable": true
   },
   "outputs": [
    {
     "data": {
      "image/png": "[encoded data removed]",
      "text/plain": [
       "<matplotlib.figure.Figure at 0x1074e8550>"
      ]
     },
     "metadata": {},
     "output_type": "display_data"
    }
   ],
   "source": [
    "### Data exploration visualization goes here.\n",
    "### Feel free to use as many code cells as needed.\n",
    "import matplotlib.pyplot as plt\n",
    "# Visualizations will be shown in the notebook.\n",
    "%matplotlib inline\n",
    "\n",
    "import random\n",
    "\n",
    "fig = plt.figure()\n",
    "\n",
    "i = 1\n",
    "for index in labels_indices:\n",
    "    #print('i={}, index={}'.format(i, index)) ### can't have prints in this loop or image does not display\n",
    "    \n",
    "    a = fig.add_subplot(5,10,i)\n",
    "    image = X_train[index].squeeze()\n",
    "\n",
    "    plt.imshow(image)\n",
    "    i += 1\n",
    "    \n",
    "# plt.show()"
   ]
  },
  {
   "cell_type": "code",
   "execution_count": 9,
   "metadata": {
    "collapsed": false,
    "deletable": true,
    "editable": true
   },
   "outputs": [
    {
     "data": {
      "image/png": "[encoded data removed]",
      "text/plain": [
       "<matplotlib.figure.Figure at 0x1250ad5c0>"
      ]
     },
     "metadata": {},
     "output_type": "display_data"
    }
   ],
   "source": [
    "import matplotlib.pyplot as plt\n",
    "# Visualizations will be shown in the notebook.\n",
    "%matplotlib inline\n",
    "indexes = np.arange(len(labels))\n",
    "\n",
    "plt.xticks(indexes + 0.35, labels)\n",
    "plt.ylabel('Number of Signs')\n",
    "plt.xlabel('Traffic Sign Labels')\n",
    "\n",
    "width = 0.6\n",
    "plt.bar(indexes, labels_counts, width )\n",
    "plt.subplots_adjust(bottom=0.1, right=1.6, top=0.9)\n",
    "\n",
    "plt.title('Number of Traffic Signs')\n",
    "plt.show()"
   ]
  },
  {
   "cell_type": "markdown",
   "metadata": {
    "deletable": true,
    "editable": true
   },
   "source": [
    "----\n",
    "\n",
    "## Step 2: Design and Test a Model Architecture\n",
    "\n",
    "Design and implement a deep learning model that learns to recognize traffic signs. Train and test your model on the [German Traffic Sign Dataset](http://benchmark.ini.rub.de/?section=gtsrb&subsection=dataset).\n",
    "\n",
    "There are various aspects to consider when thinking about this problem:\n",
    "\n",
    "- Neural network architecture\n",
    "- Play around preprocessing techniques (normalization, rgb to grayscale, etc)\n",
    "- Number of examples per label (some have more than others).\n",
    "- Generate fake data.\n",
    "\n",
    "Here is an example of a [published baseline model on this problem](http://yann.lecun.com/exdb/publis/pdf/sermanet-ijcnn-11.pdf). It's not required to be familiar with the approach used in the paper but, it's good practice to try to read papers like these.\n",
    "\n",
    "**NOTE:** The LeNet-5 implementation shown in the [classroom](https://classroom.udacity.com/nanodegrees/nd013/parts/fbf77062-5703-404e-b60c-95b78b2f3f9e/modules/6df7ae49-c61c-4bb2-a23e-6527e69209ec/lessons/601ae704-1035-4287-8b11-e2c2716217ad/concepts/d4aca031-508f-4e0b-b493-e7b706120f81) at the end of the CNN lesson is a solid starting point. You'll have to change the number of classes and possibly the preprocessing, but aside from that it's plug and play!"
   ]
  },
  {
   "cell_type": "markdown",
   "metadata": {
    "deletable": true,
    "editable": true
   },
   "source": [
    "### Implementation\n",
    "\n",
    "Use the code cell (or multiple code cells, if necessary) to implement the first step of your project. Once you have completed your implementation and are satisfied with the results, be sure to thoroughly answer the questions that follow."
   ]
  },
  {
   "cell_type": "code",
   "execution_count": 10,
   "metadata": {
    "collapsed": false,
    "deletable": true,
    "editable": true
   },
   "outputs": [],
   "source": [
    "### Preprocess the data here.\n",
    "\n",
    "import tensorflow as tf\n"
   ]
  },
  {
   "cell_type": "code",
   "execution_count": 11,
   "metadata": {
    "collapsed": false,
    "deletable": true,
    "editable": true
   },
   "outputs": [],
   "source": [
    "# convert to grayscale\n",
    "\n",
    "# rgb2gray function calculates gray value by weighting rgb values differently to match human perception?\n",
    "def rgb2gray_weighted(rgb):\n",
    "    r, g, b = rgb[:,:,0], rgb[:,:,1], rgb[:,:,2]\n",
    "    gray = 0.2989 * r + 0.5870 * g + 0.1140 * b\n",
    "    return gray\n",
    "\n",
    "# simple averaging of rgb channels (r+g+b)/3\n",
    "def rgb2gray(rgb):\n",
    "    rgb = np.mean(rgb, axis=3,dtype=int)\n",
    "    \n",
    "    # wrap value in own array, because? so that it is a one channel array\n",
    "    # started out with shape (39209, 32, 32, 3), end up with shape (39209, 32, 32, 1)\n",
    "    # without the resize, it is shape (39209, 32, 32)\n",
    "    rgb.resize([rgb.shape[0],rgb.shape[1],rgb.shape[2],1])\n",
    "    return rgb"
   ]
  },
  {
   "cell_type": "code",
   "execution_count": 12,
   "metadata": {
    "collapsed": false,
    "deletable": true,
    "editable": true
   },
   "outputs": [
    {
     "name": "stdout",
     "output_type": "stream",
     "text": [
      "X_train[0].shape=(32, 32, 3), X_train[0]=[[75 78 80]\n",
      " [74 76 78]\n",
      " [83 84 83]]\n",
      "after resize X_train.shape=(39209, 32, 32, 1)\n",
      "X_train[0].shape=(32, 32, 1), X_train[0]=[[77]\n",
      " [76]\n",
      " [83]]\n"
     ]
    }
   ],
   "source": [
    "# convert train set to gray scale\n",
    "print('X_train[0].shape={}, X_train[0]={}'.format(X_train[0].shape, X_train[0][0][0:3]))\n",
    "\n",
    "X_train = rgb2gray(X_train)\n",
    "\n",
    "print('after resize X_train.shape={}'.format(X_train.shape))\n",
    "print('X_train[0].shape={}, X_train[0]={}'.format(X_train[0].shape, X_train[0][0][0:3]))"
   ]
  },
  {
   "cell_type": "code",
   "execution_count": 13,
   "metadata": {
    "collapsed": false,
    "deletable": true,
    "editable": true
   },
   "outputs": [
    {
     "name": "stdout",
     "output_type": "stream",
     "text": [
      "X_test.shape=(12630, 32, 32, 3), y_test.shape=(12630,)\n"
     ]
    }
   ],
   "source": [
    "X_test, y_test = test['features'], test['labels']\n",
    "print('X_test.shape={}, y_test.shape={}'.format(X_test.shape, y_test.shape))"
   ]
  },
  {
   "cell_type": "code",
   "execution_count": 14,
   "metadata": {
    "collapsed": false,
    "deletable": true,
    "editable": true
   },
   "outputs": [
    {
     "name": "stdout",
     "output_type": "stream",
     "text": [
      "before resize X_test.shape=(12630, 32, 32, 3)\n",
      "X_test[0].shape=(32, 32, 3), X_test[0]=[[116 139 174]\n",
      " [116 137 171]\n",
      " [118 138 172]]\n",
      "after resize X_test.shape=(12630, 32, 32, 1)\n",
      "X_test[0].shape=(32, 32, 1), X_test[0]=[[143]\n",
      " [141]\n",
      " [142]]\n"
     ]
    }
   ],
   "source": [
    "# convert test set to gray scale\n",
    "print('before resize X_test.shape={}'.format(X_test.shape))\n",
    "print('X_test[0].shape={}, X_test[0]={}'.format(X_test[0].shape, X_test[0][0][0:3]))\n",
    "\n",
    "X_test = rgb2gray(X_test)\n",
    "\n",
    "print('after resize X_test.shape={}'.format(X_test.shape))\n",
    "print('X_test[0].shape={}, X_test[0]={}'.format(X_test[0].shape, X_test[0][0][0:3]))"
   ]
  },
  {
   "cell_type": "code",
   "execution_count": 15,
   "metadata": {
    "collapsed": false,
    "deletable": true,
    "editable": true
   },
   "outputs": [
    {
     "name": "stdout",
     "output_type": "stream",
     "text": [
      "X_train.shape=(39209, 32, 32, 1)\n"
     ]
    }
   ],
   "source": [
    "# normalize and scale\n",
    "\n",
    "# 8 bit value 0-255, \n",
    "# normalize by subtracting mean 255/2, \n",
    "# scale by dividing by 255 (so value range is -0.5 to 0.5)\n",
    "# TODO: try scaling to range 0.0 to 1.0 (positive range)\n",
    "def normalize_grayscale(image_data):\n",
    "    return (image_data - 255/2)/255\n",
    "    \n",
    "X_train = normalize_grayscale( X_train )\n",
    "print('X_train.shape={}'.format(X_train.shape))\n",
    "# print('X_train[0]={}'.format(X_train[0][0]))\n",
    "\n",
    "###TODO process test data set the same way?"
   ]
  },
  {
   "cell_type": "code",
   "execution_count": 16,
   "metadata": {
    "collapsed": false,
    "deletable": true,
    "editable": true
   },
   "outputs": [],
   "source": [
    "X_test = normalize_grayscale( X_test )\n",
    "# print('X_test[0]={}'.format(X_test[0][0]))"
   ]
  },
  {
   "cell_type": "markdown",
   "metadata": {
    "deletable": true,
    "editable": true
   },
   "source": [
    "### Question 1 \n",
    "\n",
    "_Describe how you preprocessed the data. Why did you choose that technique?_"
   ]
  },
  {
   "cell_type": "markdown",
   "metadata": {
    "deletable": true,
    "editable": true
   },
   "source": [
    "**Answer:**\n",
    "Gray scale because of referenced paper.\n",
    "Normalize and scale because lecture stated it leads to better gradient descent behavior.\n"
   ]
  },
  {
   "cell_type": "code",
   "execution_count": 17,
   "metadata": {
    "collapsed": false,
    "deletable": true,
    "editable": true
   },
   "outputs": [],
   "source": [
    "### Generate additional data (OPTIONAL!)\n",
    "# train set is very uneven, some labels have few examples,\n",
    "# can generate more samples by jingling existing samples via translation x,y axis,\n",
    "# and or expand/contract size\n",
    "\n",
    "### and split the data into training/validation/testing sets here.\n",
    "\n",
    "\n",
    "### Feel free to use as many code cells as needed."
   ]
  },
  {
   "cell_type": "markdown",
   "metadata": {
    "deletable": true,
    "editable": true
   },
   "source": [
    "### Shuffle the data before Splitting\n",
    "The data read in is in contiguous classes.\n",
    "If it is not shuffled before splitting, the data will be very unbalanced between train and validation sets.\n",
    "Also, if it is not shuffled before training, the batched data will be very uniform and lead to very biased weights towards the classes seen so far."
   ]
  },
  {
   "cell_type": "code",
   "execution_count": 18,
   "metadata": {
    "collapsed": true,
    "deletable": true,
    "editable": true
   },
   "outputs": [],
   "source": [
    "from sklearn.utils import shuffle\n",
    "\n",
    "X_train, y_train = shuffle(X_train, y_train)"
   ]
  },
  {
   "cell_type": "code",
   "execution_count": 19,
   "metadata": {
    "collapsed": false,
    "deletable": true,
    "editable": true
   },
   "outputs": [
    {
     "name": "stdout",
     "output_type": "stream",
     "text": [
      "labels=[ 0  1  2  3  4  5  6  7  8  9 10 11 12 13 14 15 16 17 18 19 20 21 22 23 24\n",
      " 25 26 27 28 29 30 31 32 33 34 35 36 37 38 39 40 41 42]\n",
      "labels_counts=[ 210 2220 2250 1410 1980 1860  420 1440 1410 1470 2010 1320 2100 2160  780\n",
      "  630  420 1110 1200  210  360  330  390  510  270 1500  600  240  540  270\n",
      "  450  780  240  689  420 1200  390  210 2070  300  360  240  240]\n",
      "labels_indices=[129  16  11  20  27  14  97  49  13   8  47   4  12 113   3  51 344 103\n",
      "   2 362  52  55  36  10  44   1  45  88   5 438  26   7 186  48  15   0\n",
      "   6 106  22 239 201  70 108]\n"
     ]
    }
   ],
   "source": [
    "# see what data looks like after shuffle\n",
    "labels, labels_indices, labels_counts = np.unique(y_train, return_index=True, return_counts=True)\n",
    "print('labels={}'.format(labels))\n",
    "print('labels_counts={}'.format(labels_counts))\n",
    "print('labels_indices={}'.format(labels_indices))"
   ]
  },
  {
   "cell_type": "code",
   "execution_count": 20,
   "metadata": {
    "collapsed": false,
    "deletable": true,
    "editable": true
   },
   "outputs": [
    {
     "name": "stdout",
     "output_type": "stream",
     "text": [
      "before split: X_train.shape=(39209, 32, 32, 1),y_train.shape=(39209,)\n",
      "after split: X_train.shape=(37248, 32, 32, 1),X_train.shape=(37248,)\n"
     ]
    }
   ],
   "source": [
    "# split out training set into train and validation set\n",
    "# don't touch test set\n",
    "\n",
    "print('before split: X_train.shape={},y_train.shape={}'.format(X_train.shape, y_train.shape))\n",
    "# from sklearn.model_selection import train_test_split\n",
    "from sklearn.model_selection import train_test_split\n",
    "X_train, X_valid, y_train, y_valid = train_test_split(X_train, y_train, test_size = 0.05, random_state=832289)\n",
    "print('after split: X_train.shape={},X_train.shape={}'.format(X_train.shape, y_train.shape))"
   ]
  },
  {
   "cell_type": "markdown",
   "metadata": {
    "deletable": true,
    "editable": true
   },
   "source": [
    "### Question 2\n",
    "\n",
    "_Describe how you set up the training, validation and testing data for your model. **Optional**: If you generated additional data, how did you generate the data? Why did you generate the data? What are the differences in the new dataset (with generated data) from the original dataset?_"
   ]
  },
  {
   "cell_type": "markdown",
   "metadata": {
    "deletable": true,
    "editable": true
   },
   "source": [
    "**Answer:**\n",
    "The original test set is not touched for training.\n",
    "The training set is split into a training and validation set.\n",
    "Default value of validation (test) set size is 25% for sklearn train_test_split function,\n",
    "chose 0.05% to have more training examples\n",
    "\n",
    "Data should be generated for classes that have few training examples."
   ]
  },
  {
   "cell_type": "code",
   "execution_count": 21,
   "metadata": {
    "collapsed": true,
    "deletable": true,
    "editable": true
   },
   "outputs": [],
   "source": [
    "### Define your architecture here.\n",
    "from tensorflow.contrib.layers import flatten\n",
    "\n",
    "def LeNet(x):    \n",
    "    \n",
    "    #Y Reshape from 2D to 4D. This prepares the data for\n",
    "    #Y convolutional and pooling layers.\n",
    "    ##YH already in correct shape? (37248, 32, 32, 1)\n",
    "    #     x = tf.reshape(x, (-1, 32, 32, 1))\n",
    "    \n",
    "    \n",
    "    # Arguments used for tf.truncated_normal, randomly defines variables for the weights and biases for each layer\n",
    "    mu = 0\n",
    "    sigma = 0.1\n",
    "    \n",
    "    # TODO: Layer 1: Convolutional. Input = 32x32x1. Output = 28x28x6.\n",
    "    # set weights\n",
    "    wc1 = tf.Variable(tf.truncated_normal([5, 5, 1, 6], mu, sigma))\n",
    "    strides = 1\n",
    "    \n",
    "    # process convolution\n",
    "    x = tf.nn.conv2d(x, wc1, strides=[1, strides, strides, 1], padding='VALID')\n",
    "    \n",
    "    # add bias\n",
    "    bc1 = tf.Variable(tf.truncated_normal([6], mu, sigma))\n",
    "    x = tf.nn.bias_add(x, bc1)\n",
    "\n",
    "    # TODO: Activation. relu = rectificed linear unit\n",
    "    x = tf.nn.relu(x)\n",
    "\n",
    "    # TODO: Pooling. Input = 28x28x6. Output = 14x14x6.\n",
    "    k = 2\n",
    "    x = tf.nn.max_pool(\n",
    "        x,\n",
    "        ksize=[1, k, k, 1],\n",
    "        strides=[1, k, k, 1],\n",
    "        padding='VALID')\n",
    "\n",
    "    # TODO: Layer 2: Convolutional. Output = 10x10x16.\n",
    "    wc2 = tf.Variable(tf.truncated_normal([5, 5, 6, 16], mu, sigma))\n",
    "    strides = 1\n",
    "    x = tf.nn.conv2d(x, wc2, strides=[1, strides, strides, 1], padding='VALID')\n",
    "    \n",
    "    bc2 = tf.Variable(tf.truncated_normal([16], mu, sigma))\n",
    "    x = tf.nn.bias_add(x, bc2)\n",
    "    \n",
    "    # TODO: Activation.\n",
    "    x = tf.nn.relu(x)\n",
    "\n",
    "    # TODO: Pooling. Input = 10x10x16. Output = 5x5x16.\n",
    "    k = 2\n",
    "    x = tf.nn.max_pool(\n",
    "        x,\n",
    "        ksize=[1, k, k, 1],\n",
    "        strides=[1, k, k, 1],\n",
    "        padding='VALID')\n",
    "\n",
    "    # TODO: Flatten. Input = 5x5x16. Output = 400.\n",
    "    \n",
    "    # reshape x as 2d matrix, tf.reshape with shape param with axis -1 infers size\n",
    "    # so reshape with shape = [-1,400] reshapes input tensor to rows with col size = 400\n",
    "    x = tf.reshape(x, [-1, 400])\n",
    "    \n",
    "    # TODO: Layer 3: Fully Connected. Input = 400. Output = 120.\n",
    "    wd1 = tf.Variable(tf.truncated_normal([5*5*16, 120], mu, sigma))\n",
    "    bd1 = tf.Variable(tf.truncated_normal([120], mu, sigma))\n",
    "    x = tf.add(tf.matmul(x, wd1), bd1)\n",
    "\n",
    "    # TODO: Activation.\n",
    "    x = tf.nn.relu(x)\n",
    "    \n",
    "    #YH TODO: try dropout?\n",
    "    #     x = tf.nn.dropout(x, dropout)\n",
    "    \n",
    "    # TODO: Layer 4: Fully Connected. Input = 120. Output = 84.\n",
    "    wd2 = tf.Variable(tf.truncated_normal([120, 84], mu, sigma))\n",
    "    bd2 = tf.Variable(tf.truncated_normal([84], mu, sigma))\n",
    "    x = tf.add(tf.matmul(x, wd2), bd2)\n",
    "    \n",
    "    # TODO: Activation.\n",
    "    x = tf.nn.relu(x)\n",
    "\n",
    "    # TODO: Layer 5: Fully Connected. Input = 84. Output = 43.\n",
    "    # 43 classes\n",
    "    classes = 43\n",
    "    wd3 = tf.Variable(tf.truncated_normal([84, classes], mu, sigma))\n",
    "    bd3 = tf.Variable(tf.truncated_normal([classes], mu, sigma))\n",
    "    x = tf.add(tf.matmul(x, wd3), bd3)\n",
    "    \n",
    "    return x"
   ]
  },
  {
   "cell_type": "markdown",
   "metadata": {
    "deletable": true,
    "editable": true
   },
   "source": [
    "### Question 3\n",
    "\n",
    "_What does your final architecture look like? (Type of model, layers, sizes, connectivity, etc.)  For reference on how to build a deep neural network using TensorFlow, see [Deep Neural Network in TensorFlow\n",
    "](https://classroom.udacity.com/nanodegrees/nd013/parts/fbf77062-5703-404e-b60c-95b78b2f3f9e/modules/6df7ae49-c61c-4bb2-a23e-6527e69209ec/lessons/b516a270-8600-4f93-a0a3-20dfeabe5da6/concepts/83a3a2a2-a9bd-4b7b-95b0-eb924ab14432) from the classroom._\n"
   ]
  },
  {
   "cell_type": "markdown",
   "metadata": {
    "deletable": true,
    "editable": true
   },
   "source": [
    "**Answer:**\n",
    "Starting out with archictecture from LeNet Lab.\n",
    "\n",
    "LeNext architecture:\n",
    "\n",
    "Input > conv > activation > max pool > conv > activation > max pool > flatten > fully connected layer > activation > fully connected layer"
   ]
  },
  {
   "cell_type": "code",
   "execution_count": 22,
   "metadata": {
    "collapsed": true,
    "deletable": true,
    "editable": true
   },
   "outputs": [],
   "source": [
    "### Train your model here.\n",
    "### Feel free to use as many code cells as needed."
   ]
  },
  {
   "cell_type": "code",
   "execution_count": 23,
   "metadata": {
    "collapsed": true,
    "deletable": true,
    "editable": true
   },
   "outputs": [],
   "source": [
    "x = tf.placeholder(tf.float32, (None, 32, 32, 1), name='x')\n",
    "y = tf.placeholder(tf.int32, (None), name='y')\n",
    "\n",
    "# one hot encode labels, depth = num classes = 43 \n",
    "one_hot_y = tf.one_hot(y, 43)"
   ]
  },
  {
   "cell_type": "code",
   "execution_count": 24,
   "metadata": {
    "collapsed": true,
    "deletable": true,
    "editable": true
   },
   "outputs": [],
   "source": [
    "# training pipeline\n",
    "# Create a training pipeline that uses the model to classify traffic signs data.\n",
    "\n",
    "rate = 0.001\n",
    "\n",
    "logits = LeNet(x)\n",
    "prediction = tf.nn.softmax(logits) # Computes softmax activations.\n",
    "cross_entropy = tf.nn.softmax_cross_entropy_with_logits(logits, one_hot_y)\n",
    "loss_operation = tf.reduce_mean(cross_entropy)\n",
    "optimizer = tf.train.AdamOptimizer(learning_rate = rate)\n",
    "training_operation = optimizer.minimize(loss_operation)"
   ]
  },
  {
   "cell_type": "code",
   "execution_count": 25,
   "metadata": {
    "collapsed": true,
    "deletable": true,
    "editable": true
   },
   "outputs": [],
   "source": [
    "# model evaluation\n",
    "# Evaluate how well the loss and accuracy of the model for a given dataset.\n",
    "\n",
    "correct_prediction = tf.equal(tf.argmax(logits, 1), tf.argmax(one_hot_y, 1))\n",
    "accuracy_operation = tf.reduce_mean(tf.cast(correct_prediction, tf.float32))\n",
    "saver = tf.train.Saver()\n",
    "\n",
    "def evaluate(X_data, y_data):\n",
    "    num_examples = len(X_data)\n",
    "    total_accuracy = 0\n",
    "    sess = tf.get_default_session()\n",
    "    for offset in range(0, num_examples, BATCH_SIZE):\n",
    "        batch_x, batch_y = X_data[offset:offset+BATCH_SIZE], y_data[offset:offset+BATCH_SIZE]\n",
    "        accuracy = sess.run(accuracy_operation, feed_dict={x: batch_x, y: batch_y})\n",
    "        total_accuracy += (accuracy * len(batch_x))\n",
    "    return total_accuracy / num_examples"
   ]
  },
  {
   "cell_type": "code",
   "execution_count": 26,
   "metadata": {
    "collapsed": false,
    "deletable": true,
    "editable": true
   },
   "outputs": [
    {
     "name": "stdout",
     "output_type": "stream",
     "text": [
      "WARNING:tensorflow:From <ipython-input-26-bd2416d24a8a>:7 in <module>.: initialize_all_variables (from tensorflow.python.ops.variables) is deprecated and will be removed after 2017-03-02.\n",
      "Instructions for updating:\n",
      "Use `tf.global_variables_initializer` instead.\n",
      "Training...\n",
      "\n",
      "EPOCH 1 ...\n",
      "Validation Accuracy = 0.762\n",
      "\n",
      "EPOCH 2 ...\n",
      "Validation Accuracy = 0.905\n",
      "\n",
      "EPOCH 3 ...\n",
      "Validation Accuracy = 0.925\n",
      "\n",
      "EPOCH 4 ...\n",
      "Validation Accuracy = 0.958\n",
      "\n",
      "EPOCH 5 ...\n",
      "Validation Accuracy = 0.970\n",
      "\n",
      "EPOCH 6 ...\n",
      "Validation Accuracy = 0.973\n",
      "\n",
      "EPOCH 7 ...\n",
      "Validation Accuracy = 0.972\n",
      "\n",
      "EPOCH 8 ...\n",
      "Validation Accuracy = 0.976\n",
      "\n",
      "EPOCH 9 ...\n",
      "Validation Accuracy = 0.976\n",
      "\n",
      "EPOCH 10 ...\n",
      "Validation Accuracy = 0.977\n",
      "\n",
      "Model saved\n"
     ]
    }
   ],
   "source": [
    "# train model\n",
    "\n",
    "EPOCHS = 10\n",
    "BATCH_SIZE = 128\n",
    "\n",
    "with tf.Session() as sess:\n",
    "    sess.run(tf.initialize_all_variables())\n",
    "    #saver.restore(sess, tf.train.latest_checkpoint('.'))\n",
    "    num_examples = len(X_train)\n",
    "    \n",
    "    print(\"Training...\")\n",
    "    print()\n",
    "    for i in range(EPOCHS):\n",
    "        X_train, y_train = shuffle(X_train, y_train)\n",
    "        for offset in range(0, num_examples, BATCH_SIZE):\n",
    "            end = offset + BATCH_SIZE\n",
    "            batch_x, batch_y = X_train[offset:end], y_train[offset:end]\n",
    "            sess.run(training_operation, feed_dict={x: batch_x, y: batch_y})\n",
    "            \n",
    "        validation_accuracy = evaluate(X_valid, y_valid)\n",
    "        print(\"EPOCH {} ...\".format(i+1))\n",
    "        print(\"Validation Accuracy = {:.3f}\".format(validation_accuracy))\n",
    "        print()\n",
    "        \n",
    "    saver.save(sess, 'lenet')\n",
    "    print(\"Model saved\")"
   ]
  },
  {
   "cell_type": "code",
   "execution_count": 27,
   "metadata": {
    "collapsed": false,
    "deletable": true,
    "editable": true
   },
   "outputs": [
    {
     "name": "stdout",
     "output_type": "stream",
     "text": [
      "Test Accuracy = 0.904\n"
     ]
    }
   ],
   "source": [
    "#evaluate model\n",
    "with tf.Session() as sess:\n",
    "    saver.restore(sess, tf.train.latest_checkpoint('.'))\n",
    "\n",
    "    test_accuracy = evaluate(X_test, y_test)\n",
    "    print(\"Test Accuracy = {:.3f}\".format(test_accuracy))"
   ]
  },
  {
   "cell_type": "markdown",
   "metadata": {
    "deletable": true,
    "editable": true
   },
   "source": [
    "### TODOS\n",
    "\n",
    "- re-split train/validation sets and re-train to use different training data\n",
    "- use larger than 0.05 split for validation set?"
   ]
  },
  {
   "cell_type": "markdown",
   "metadata": {
    "deletable": true,
    "editable": true
   },
   "source": [
    "### Question 4\n",
    "\n",
    "_How did you train your model? (Type of optimizer, batch size, epochs, hyperparameters, etc.)_\n"
   ]
  },
  {
   "cell_type": "markdown",
   "metadata": {
    "deletable": true,
    "editable": true
   },
   "source": [
    "**Answer:**\n",
    "\n",
    "optimizer: AdamOptimizer\n",
    "\n",
    "batch size: 128\n",
    "\n",
    "epochs: 10\n",
    "\n",
    "learning rate: 0.001"
   ]
  },
  {
   "cell_type": "markdown",
   "metadata": {
    "deletable": true,
    "editable": true
   },
   "source": [
    "### Question 5\n",
    "\n",
    "\n",
    "_What approach did you take in coming up with a solution to this problem? It may have been a process of trial and error, in which case, outline the steps you took to get to the final solution and why you chose those steps. Perhaps your solution involved an already well known implementation or architecture. In this case, discuss why you think this is suitable for the current problem._"
   ]
  },
  {
   "cell_type": "markdown",
   "metadata": {
    "deletable": true,
    "editable": true
   },
   "source": [
    "**Answer:**\n",
    "The initial approach is to use the LeNet architecture since it showed good results for the MNIST data set.\n",
    "The next iteration would attempt the architecture outlined in the reference paper by LeCunn for the traffic signs problem."
   ]
  },
  {
   "cell_type": "markdown",
   "metadata": {
    "deletable": true,
    "editable": true
   },
   "source": [
    "---\n",
    "\n",
    "## Step 3: Test a Model on New Images\n",
    "\n",
    "Take several pictures of traffic signs that you find on the web or around you (at least five), and run them through your classifier on your computer to produce example results. The classifier might not recognize some local signs but it could prove interesting nonetheless.\n",
    "\n",
    "You may find `signnames.csv` useful as it contains mappings from the class id (integer) to the actual sign name."
   ]
  },
  {
   "cell_type": "markdown",
   "metadata": {
    "deletable": true,
    "editable": true
   },
   "source": [
    "### Implementation\n",
    "\n",
    "Use the code cell (or multiple code cells, if necessary) to implement the first step of your project. Once you have completed your implementation and are satisfied with the results, be sure to thoroughly answer the questions that follow."
   ]
  },
  {
   "cell_type": "code",
   "execution_count": 28,
   "metadata": {
    "collapsed": true,
    "deletable": true,
    "editable": true
   },
   "outputs": [],
   "source": [
    "### Load the images and plot them here.\n",
    "### Feel free to use as many code cells as needed."
   ]
  },
  {
   "cell_type": "code",
   "execution_count": 29,
   "metadata": {
    "collapsed": false,
    "deletable": true,
    "editable": true
   },
   "outputs": [
    {
     "data": {
      "image/png": "[encoded data removed]",
      "text/plain": [
       "<matplotlib.figure.Figure at 0x13d4dac18>"
      ]
     },
     "metadata": {},
     "output_type": "display_data"
    },
    {
     "data": {
      "image/png": "[encoded data removed]",
      "text/plain": [
       "<matplotlib.figure.Figure at 0x13d4e9128>"
      ]
     },
     "metadata": {},
     "output_type": "display_data"
    },
    {
     "name": "stdout",
     "output_type": "stream",
     "text": [
      "(32, 32, 3) uint8 [[[ 66  77 109]\n",
      "  [ 70  76 108]\n",
      "  [ 79  94 135]\n",
      "  ..., \n",
      "  [ 38  31  21]\n",
      "  [ 28  34  48]\n",
      "  [ 35  50  83]]\n",
      "\n",
      " [[ 73  84 114]\n",
      "  [ 56  65  94]\n",
      "  [ 65  75 111]\n",
      "  ..., \n",
      "  [ 63  77 103]\n",
      "  [ 66  80 109]\n",
      "  [ 76  94 130]]\n",
      "\n",
      " [[ 67  78 108]\n",
      "  [ 64  71  97]\n",
      "  [ 60  64  93]\n",
      "  ..., \n",
      "  [ 81 116 172]\n",
      "  [ 67  91 139]\n",
      "  [ 69  91 132]]\n",
      "\n",
      " ..., \n",
      " [[ 32  22  10]\n",
      "  [ 53  43  33]\n",
      "  [ 14   3   0]\n",
      "  ..., \n",
      "  [ 97  95  96]\n",
      "  [ 90  88  91]\n",
      "  [ 74  68  68]]\n",
      "\n",
      " [[ 15   8   0]\n",
      "  [ 23  18  14]\n",
      "  [ 37  27  25]\n",
      "  ..., \n",
      "  [ 80  71  66]\n",
      "  [ 79  71  68]\n",
      "  [ 82  72  70]]\n",
      "\n",
      " [[ 24  16  13]\n",
      "  [ 21  16  13]\n",
      "  [ 27  12   9]\n",
      "  ..., \n",
      "  [ 48  39  34]\n",
      "  [ 49  40  33]\n",
      "  [ 42  37  34]]]\n"
     ]
    }
   ],
   "source": [
    "# JPEG images are 3 channel RGB images consistent with input data, so are easiest to deal with,\n",
    "# PNG have a 4th transparency channel, so need a bit more processing\n",
    "\n",
    "import matplotlib.pyplot as plt \n",
    "%matplotlib inline\n",
    "\n",
    "img_dir = \"signs/\"\n",
    "# image = plt.imread(img_dir + 'stop.jpeg').astype('uint8')\n",
    "# print('image.shape={}'.format(image.shape))\n",
    "\n",
    "# # image = image.squeeze()\n",
    "# plt.figure(figsize=(1,1))\n",
    "# plt.imshow(image)\n",
    "\n",
    "\n",
    "image_files = ['stop.jpg', 'speed30.jpg']\n",
    "images = []\n",
    "fig = plt.figure(figsize=(1,5))\n",
    "i = 0\n",
    "for file in image_files:\n",
    "    path = img_dir + file\n",
    "    images.append( plt.imread(path) )\n",
    "    #     a = fig.add_subplot(1,5,i+1)\n",
    "\n",
    "    plt.imshow(images[i])\n",
    "    plt.show()\n",
    "    i += 1\n",
    "    \n",
    "print(images[0].shape, images[0].dtype, images[0])"
   ]
  },
  {
   "cell_type": "code",
   "execution_count": 30,
   "metadata": {
    "collapsed": false,
    "deletable": true,
    "editable": true
   },
   "outputs": [
    {
     "name": "stdout",
     "output_type": "stream",
     "text": [
      "(2, 32, 32, 3)\n",
      "(2, 32, 32, 1)\n",
      "imgs.shape=(2, 32, 32, 1), imgs.dtype=float64\n"
     ]
    }
   ],
   "source": [
    "imgs = np.array(images,dtype = np.float32)\n",
    "print(imgs.shape)\n",
    "# print(imgs[0][0:3][0:3][:])\n",
    "\n",
    "imgs = rgb2gray(imgs)\n",
    "print(imgs.shape)\n",
    "# print(imgs[0][0:3][0:3][:])\n",
    "\n",
    "imgs = normalize_grayscale( imgs )\n",
    "# print(imgs[0][0])\n",
    "# imgs = imgs.astype('float32')\n",
    "print('imgs.shape={}, imgs.dtype={}'.format( imgs.shape, imgs.dtype ))\n",
    "# print(imgs[0].shape, imgs[0][0])"
   ]
  },
  {
   "cell_type": "code",
   "execution_count": 31,
   "metadata": {
    "collapsed": false,
    "deletable": true,
    "editable": true
   },
   "outputs": [
    {
     "name": "stdout",
     "output_type": "stream",
     "text": [
      "(32, 32, 1) [[-0.17058824]\n",
      " [-0.17058824]\n",
      " [-0.1       ]\n",
      " [-0.15490196]\n",
      " [-0.2254902 ]\n",
      " [-0.28823529]\n",
      " [-0.14705882]\n",
      " [-0.1745098 ]\n",
      " [-0.1745098 ]\n",
      " [-0.0372549 ]\n",
      " [-0.08431373]\n",
      " [-0.44117647]\n",
      " [-0.29607843]\n",
      " [-0.29607843]\n",
      " [-0.37058824]\n",
      " [-0.46862745]\n",
      " [-0.17843137]\n",
      " [-0.04509804]\n",
      " [-0.04509804]\n",
      " [-0.04901961]\n",
      " [-0.04509804]\n",
      " [-0.06862745]\n",
      " [-0.08431373]\n",
      " [-0.03333333]\n",
      " [-0.04901961]\n",
      " [-0.03333333]\n",
      " [-0.08431373]\n",
      " [-0.20196078]\n",
      " [-0.41764706]\n",
      " [-0.38235294]\n",
      " [-0.35882353]\n",
      " [-0.28039216]]\n"
     ]
    }
   ],
   "source": [
    "print(imgs[0].shape, imgs[0][0])"
   ]
  },
  {
   "cell_type": "markdown",
   "metadata": {
    "deletable": true,
    "editable": true
   },
   "source": [
    "### Question 6\n",
    "\n",
    "_Choose five candidate images of traffic signs and provide them in the report. Are there any particular qualities of the image(s) that might make classification difficult? It could be helpful to plot the images in the notebook._\n",
    "\n"
   ]
  },
  {
   "cell_type": "markdown",
   "metadata": {
    "deletable": true,
    "editable": true
   },
   "source": [
    "**Answer:**"
   ]
  },
  {
   "cell_type": "markdown",
   "metadata": {
    "deletable": true,
    "editable": true
   },
   "source": [
    "Images that are similar are difficult to differentiate,\n",
    "e.g. the speed limit signs look that same except for a single digit inside a circle.\n",
    "\n",
    "A possible strategy is to use two stages of pipelines.\n",
    "1. classify into broad classes: red circular speed limits, triangular warnings, blue circular direction signs\n",
    "2. subsequent stage, refine broad classes, e.g. take signs classified as speed limits and refine into different speed classes."
   ]
  },
  {
   "cell_type": "code",
   "execution_count": 32,
   "metadata": {
    "collapsed": false,
    "deletable": true,
    "editable": true
   },
   "outputs": [
    {
     "name": "stdout",
     "output_type": "stream",
     "text": [
      "(12630, 32, 32, 1)\n"
     ]
    }
   ],
   "source": [
    "print(X_test.shape)"
   ]
  },
  {
   "cell_type": "code",
   "execution_count": 34,
   "metadata": {
    "collapsed": false,
    "deletable": true,
    "editable": true
   },
   "outputs": [
    {
     "name": "stdout",
     "output_type": "stream",
     "text": [
      "[[ -0.9282918   -1.46082902 -10.85099792  -5.89313889  -4.34156561\n",
      "  -10.70488358 -19.66179466 -21.05651474  -8.80728436 -10.24070835\n",
      "  -20.07561302 -20.68408203  -6.19092512  -6.36402702   9.11137104\n",
      "   -0.6678496  -26.66271019  -7.81437874 -11.55865192 -24.06306267\n",
      "  -11.89576912 -23.38946533  -5.0471468  -18.22249794  -7.22640419\n",
      "   -7.62990284  -2.08575749 -23.76677322  -8.55799961  -4.31502771\n",
      "  -17.76478958 -22.88953209  -9.21924973  -8.68789291  -4.02588177\n",
      "   -7.1415329   -2.50850224  -8.5768919    2.55606961  -8.12491894\n",
      "   -6.21808529 -11.88398838 -27.24830055]\n",
      " [ -4.8453269   13.93223572  12.76441479   2.77630806 -23.37465286\n",
      "    7.05691671  -0.29549181 -10.64981651 -29.22132492 -45.7762413\n",
      "  -27.36930084 -17.1802597   -4.17187643 -28.99952126 -11.50116634\n",
      "  -18.92467308 -38.61343765 -40.58973312 -20.22423935 -31.40386963\n",
      "  -30.44283867  -8.25203609 -36.72926712 -28.48087311 -15.24501705\n",
      "  -19.91089439 -24.51506805 -41.57701111 -19.05171204  -4.41372585\n",
      "  -23.23233604  -0.68313342 -31.02924919 -19.16898727 -33.42564011\n",
      "  -24.58493805 -29.97887421 -15.29210186 -12.68052101 -25.50189972\n",
      "  -10.69903278 -35.23277664 -24.88000107]]\n",
      "[14  1]\n",
      "[[  4.35657239e-05   2.55780396e-05   2.13682538e-09   3.04046097e-07\n",
      "    1.43476029e-06   2.47300891e-09   3.18630810e-13   7.89895018e-14\n",
      "    1.64946137e-08   3.93381550e-09   2.10653543e-13   1.14634376e-13\n",
      "    2.25742184e-07   1.89860799e-07   9.98424649e-01   5.65267183e-05\n",
      "    2.90287826e-16   4.45200001e-08   1.05302433e-09   3.90698182e-15\n",
      "    7.51674556e-10   7.66269965e-15   7.08515074e-07   1.34389830e-12\n",
      "    8.01510538e-08   5.35392672e-08   1.36919180e-05   5.25435120e-15\n",
      "    2.11643592e-08   1.47334413e-06   2.12396550e-12   1.26327891e-14\n",
      "    1.09251719e-08   1.85863289e-08   1.96733754e-06   8.72507613e-08\n",
      "    8.97157224e-06   2.07682689e-08   1.42031268e-03   3.26354552e-08\n",
      "    2.19693391e-07   7.60582874e-10   1.61625599e-16]\n",
      " [  5.33388356e-09   7.62141407e-01   2.37059489e-01   1.08912500e-05\n",
      "    4.78475478e-17   7.87267752e-04   5.04675086e-07   1.60762931e-11\n",
      "    1.38255459e-19   8.93250853e-27   8.81061296e-19   2.34450131e-14\n",
      "    1.04597033e-08   1.72588262e-19   6.86197280e-12   4.09694886e-15\n",
      "    1.15276173e-23   1.59751650e-24   1.11703539e-15   1.55888891e-20\n",
      "    4.07553633e-20   1.76818740e-10   7.58620206e-23   2.89905479e-19\n",
      "    1.62373546e-13   1.52809402e-15   1.52962057e-17   5.95217838e-25\n",
      "    3.60818714e-15   8.21268742e-09   5.51653368e-17   3.42500755e-07\n",
      "    2.26730497e-20   3.20890661e-15   2.06429344e-21   1.42639405e-17\n",
      "    6.48160892e-20   1.54905412e-13   2.10990145e-12   5.70174934e-18\n",
      "    1.53042475e-11   3.38798896e-22   1.06192851e-17]]\n",
      "[14  1]\n",
      "[ 1.00000024  0.99999994]\n"
     ]
    }
   ],
   "source": [
    "### Run the predictions here.\n",
    "### Feel free to use as many code cells as needed.\n",
    "\n",
    "\n",
    "with tf.Session() as sess:\n",
    "  saver.restore(sess, tf.train.latest_checkpoint('.'))\n",
    "\n",
    "  resultLogits = sess.run(logits, feed_dict={ x: imgs })\n",
    "  new_images_probs = sess.run(prediction, feed_dict={ x: imgs })\n",
    "\n",
    "print(resultLogits)\n",
    "print(np.argmax(resultLogits, axis=1))\n",
    "print(new_images_probs)\n",
    "argmax = np.argmax(new_images_probs, axis=1)\n",
    "print(argmax)\n",
    "print(np.sum(new_images_probs, axis=1))    \n"
   ]
  },
  {
   "cell_type": "markdown",
   "metadata": {
    "deletable": true,
    "editable": true
   },
   "source": [
    "### Question 7\n",
    "\n",
    "_Is your model able to perform equally well on captured pictures when compared to testing on the dataset? The simplest way to do this check the accuracy of the predictions. For example, if the model predicted 1 out of 5 signs correctly, it's 20% accurate._\n",
    "\n",
    "_**NOTE:** You could check the accuracy manually by using `signnames.csv` (same directory). This file has a mapping from the class id (0-42) to the corresponding sign name. So, you could take the class id the model outputs, lookup the name in `signnames.csv` and see if it matches the sign from the image._\n"
   ]
  },
  {
   "cell_type": "markdown",
   "metadata": {
    "deletable": true,
    "editable": true
   },
   "source": [
    "**Answer:**"
   ]
  },
  {
   "cell_type": "code",
   "execution_count": 35,
   "metadata": {
    "collapsed": true,
    "deletable": true,
    "editable": true
   },
   "outputs": [],
   "source": [
    "### Visualize the softmax probabilities here.\n",
    "### Feel free to use as many code cells as needed."
   ]
  },
  {
   "cell_type": "markdown",
   "metadata": {
    "deletable": true,
    "editable": true
   },
   "source": [
    "### Question 8\n",
    "\n",
    "*Use the model's softmax probabilities to visualize the **certainty** of its predictions, [`tf.nn.top_k`](https://www.tensorflow.org/versions/r0.12/api_docs/python/nn.html#top_k) could prove helpful here. Which predictions is the model certain of? Uncertain? If the model was incorrect in its initial prediction, does the correct prediction appear in the top k? (k should be 5 at most)*\n",
    "\n",
    "`tf.nn.top_k` will return the values and indices (class ids) of the top k predictions. So if k=3, for each sign, it'll return the 3 largest probabilities (out of a possible 43) and the correspoding class ids.\n",
    "\n",
    "Take this numpy array as an example:\n",
    "\n",
    "```\n",
    "# (5, 6) array\n",
    "a = np.array([[ 0.24879643,  0.07032244,  0.12641572,  0.34763842,  0.07893497,\n",
    "         0.12789202],\n",
    "       [ 0.28086119,  0.27569815,  0.08594638,  0.0178669 ,  0.18063401,\n",
    "         0.15899337],\n",
    "       [ 0.26076848,  0.23664738,  0.08020603,  0.07001922,  0.1134371 ,\n",
    "         0.23892179],\n",
    "       [ 0.11943333,  0.29198961,  0.02605103,  0.26234032,  0.1351348 ,\n",
    "         0.16505091],\n",
    "       [ 0.09561176,  0.34396535,  0.0643941 ,  0.16240774,  0.24206137,\n",
    "         0.09155967]])\n",
    "```\n",
    "\n",
    "Running it through `sess.run(tf.nn.top_k(tf.constant(a), k=3))` produces:\n",
    "\n",
    "```\n",
    "TopKV2(values=array([[ 0.34763842,  0.24879643,  0.12789202],\n",
    "       [ 0.28086119,  0.27569815,  0.18063401],\n",
    "       [ 0.26076848,  0.23892179,  0.23664738],\n",
    "       [ 0.29198961,  0.26234032,  0.16505091],\n",
    "       [ 0.34396535,  0.24206137,  0.16240774]]), indices=array([[3, 0, 5],\n",
    "       [0, 1, 4],\n",
    "       [0, 5, 1],\n",
    "       [1, 3, 5],\n",
    "       [1, 4, 3]], dtype=int32))\n",
    "```\n",
    "\n",
    "Looking just at the first row we get `[ 0.34763842,  0.24879643,  0.12789202]`, you can confirm these are the 3 largest probabilities in `a`. You'll also notice `[3, 0, 5]` are the corresponding indices."
   ]
  },
  {
   "cell_type": "markdown",
   "metadata": {
    "deletable": true,
    "editable": true
   },
   "source": [
    "**Answer:**"
   ]
  },
  {
   "cell_type": "markdown",
   "metadata": {
    "deletable": true,
    "editable": true
   },
   "source": [
    "> **Note**: Once you have completed all of the code implementations and successfully answered each question above, you may finalize your work by exporting the iPython Notebook as an HTML document. You can do this by using the menu above and navigating to  \\n\",\n",
    "    \"**File -> Download as -> HTML (.html)**. Include the finished document along with this notebook as your submission."
   ]
  },
  {
   "cell_type": "code",
   "execution_count": null,
   "metadata": {
    "collapsed": true,
    "deletable": true,
    "editable": true
   },
   "outputs": [],
   "source": []
  }
 ],
 "metadata": {
  "anaconda-cloud": {},
  "kernelspec": {
   "display_name": "Python 3",
   "language": "python",
   "name": "python3"
  },
  "language_info": {
   "codemirror_mode": {
    "name": "ipython",
    "version": 3
   },
   "file_extension": ".py",
   "mimetype": "text/x-python",
   "name": "python",
   "nbconvert_exporter": "python",
   "pygments_lexer": "ipython3",
   "version": "3.5.2"
  },
  "widgets": {
   "state": {},
   "version": "1.1.2"
  }
 },
 "nbformat": 4,
 "nbformat_minor": 1
}
