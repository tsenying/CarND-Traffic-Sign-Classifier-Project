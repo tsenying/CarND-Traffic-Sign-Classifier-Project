{
 "cells": [
  {
   "cell_type": "markdown",
   "metadata": {},
   "source": [
    "# Self-Driving Car Engineer Nanodegree\n",
    "\n",
    "## Deep Learning\n",
    "\n",
    "## Project: Build a Traffic Sign Recognition Classifier\n",
    "\n",
    "In this notebook, a template is provided for you to implement your functionality in stages which is required to successfully complete this project. If additional code is required that cannot be included in the notebook, be sure that the Python code is successfully imported and included in your submission, if necessary. Sections that begin with **'Implementation'** in the header indicate where you should begin your implementation for your project. Note that some sections of implementation are optional, and will be marked with **'Optional'** in the header.\n",
    "\n",
    "In addition to implementing code, there will be questions that you must answer which relate to the project and your implementation. Each section where you will answer a question is preceded by a **'Question'** header. Carefully read each question and provide thorough answers in the following text boxes that begin with **'Answer:'**. Your project submission will be evaluated based on your answers to each of the questions and the implementation you provide.\n",
    "\n",
    ">**Note:** Code and Markdown cells can be executed using the **Shift + Enter** keyboard shortcut. In addition, Markdown cells can be edited by typically double-clicking the cell to enter edit mode."
   ]
  },
  {
   "cell_type": "markdown",
   "metadata": {},
   "source": [
    "---\n",
    "## Step 0: Load The Data"
   ]
  },
  {
   "cell_type": "code",
   "execution_count": 1,
   "metadata": {
    "collapsed": true
   },
   "outputs": [],
   "source": [
    "# Load pickled data\n",
    "import pickle\n",
    "\n",
    "# TODO: Fill this in based on where you saved the training and testing data\n",
    "\n",
    "training_file = \"/home/carnd/traffic-signs-data/train.p\"\n",
    "testing_file = \"/home/carnd/traffic-signs-data/test.p\"\n",
    "\n",
    "with open(training_file, mode='rb') as f:\n",
    "    train = pickle.load(f)\n",
    "with open(testing_file, mode='rb') as f:\n",
    "    test = pickle.load(f)\n",
    "    \n",
    "X_train, y_train = train['features'], train['labels']\n",
    "X_test, y_test = test['features'], test['labels']"
   ]
  },
  {
   "cell_type": "code",
   "execution_count": 2,
   "metadata": {
    "collapsed": false
   },
   "outputs": [
    {
     "name": "stdout",
     "output_type": "stream",
     "text": [
      "X_train.shape=(39209, 32, 32, 3), y_train.shape=(39209,)\n",
      "X_test.shape=(12630, 32, 32, 3), y_test.shape=(12630,)\n",
      "X_train len=39209\n",
      "X_train image shape=(32, 32, 3)\n",
      "Image Shape: (32, 32, 3)\n"
     ]
    }
   ],
   "source": [
    "print('X_train.shape={}, y_train.shape={}'.format(X_train.shape, y_train.shape))\n",
    "print('X_test.shape={}, y_test.shape={}'.format(X_test.shape, y_test.shape))\n",
    "print('X_train len={}'.format(X_train.shape[0]))\n",
    "print('X_train image shape={}'.format(X_train.shape[1:4]))\n",
    "print(\"Image Shape: {}\".format(X_train[0].shape))"
   ]
  },
  {
   "cell_type": "code",
   "execution_count": 3,
   "metadata": {
    "collapsed": false
   },
   "outputs": [
    {
     "name": "stdout",
     "output_type": "stream",
     "text": [
      "X_train[0].shape=(32, 32, 3), X_train[0]=[[75 78 80]\n",
      " [74 76 78]\n",
      " [83 84 83]]\n"
     ]
    }
   ],
   "source": [
    "print('X_train[0].shape={}, X_train[0]={}'.format(X_train[0].shape, X_train[0][0][0:3]))"
   ]
  },
  {
   "cell_type": "code",
   "execution_count": 4,
   "metadata": {
    "collapsed": false
   },
   "outputs": [],
   "source": [
    "assert(len(X_train) == len(y_train))\n",
    "assert(len(X_test) == len(y_test))"
   ]
  },
  {
   "cell_type": "code",
   "execution_count": 5,
   "metadata": {
    "collapsed": false
   },
   "outputs": [
    {
     "name": "stdout",
     "output_type": "stream",
     "text": [
      "labels=[ 0  1  2  3  4  5  6  7  8  9 10 11 12 13 14 15 16 17 18 19 20 21 22 23 24\n",
      " 25 26 27 28 29 30 31 32 33 34 35 36 37 38 39 40 41 42]\n",
      "labels_counts=[ 210 2220 2250 1410 1980 1860  420 1440 1410 1470 2010 1320 2100 2160  780\n",
      "  630  420 1110 1200  210  360  330  390  510  270 1500  600  240  540  270\n",
      "  450  780  240  689  420 1200  390  210 2070  300  360  240  240]\n",
      "labels_indices=[    0   210  2430  4680  6090  8070  9930 10350 11790 13200 14670 16680\n",
      " 18000 20100 22260 23040 23670 24090 25200 26400 26610 26970 27300 27690\n",
      " 28200 28470 29970 30570 30810 31350 31620 32070 32850 33090 33779 34199\n",
      " 35399 35789 35999 38069 38369 38729 38969]\n",
      "num unique labels=43\n",
      "num labels=39209\n"
     ]
    }
   ],
   "source": [
    "import numpy as np\n",
    "labels, labels_indices, labels_counts = np.unique(y_train, return_index=True, return_counts=True)\n",
    "print('labels={}'.format(labels))\n",
    "print('labels_counts={}'.format(labels_counts))\n",
    "print('labels_indices={}'.format(labels_indices))\n",
    "print('num unique labels={}'.format(labels.shape[0]))\n",
    "print('num labels={}'.format(labels_counts.sum()))"
   ]
  },
  {
   "cell_type": "code",
   "execution_count": 6,
   "metadata": {
    "collapsed": false
   },
   "outputs": [
    {
     "name": "stdout",
     "output_type": "stream",
     "text": [
      "train_sizes.shape=(39209, 2), train_coords.shape=(39209, 4)\n",
      "train_sizes[0:5]=[[29 30]\n",
      " [30 30]\n",
      " [30 30]\n",
      " [31 31]\n",
      " [30 32]], train_coords[0:5]=[[ 5  6 24 25]\n",
      " [ 5  5 25 25]\n",
      " [ 5  5 25 25]\n",
      " [ 5  5 26 26]\n",
      " [ 5  6 25 26]]\n"
     ]
    }
   ],
   "source": [
    "# the example files have four sets of data\n",
    "# features: rgb values for 32x32 images\n",
    "# labels: a number denoting the feature class\n",
    "# sizes: original individual example image size\n",
    "# coords: bounding box of actual traffic sign in image, top-left and bottom-right corners\n",
    "# sizes and coords are probably not relevant to solving this project\n",
    "train_sizes, train_coords = train['sizes'], train['coords']\n",
    "print('train_sizes.shape={}, train_coords.shape={}'.format(train_sizes.shape, train_coords.shape))\n",
    "print('train_sizes[0:5]={}, train_coords[0:5]={}'.format(train_sizes[0:5], train_coords[0:5]))"
   ]
  },
  {
   "cell_type": "markdown",
   "metadata": {},
   "source": [
    "---\n",
    "\n",
    "## Step 1: Dataset Summary & Exploration\n",
    "\n",
    "The pickled data is a dictionary with 4 key/value pairs:\n",
    "\n",
    "- `'features'` is a 4D array containing raw pixel data of the traffic sign images, (num examples, width, height, channels).\n",
    "- `'labels'` is a 1D array containing the label/class id of the traffic sign. The file `signnames.csv` contains id -> name mappings for each id.\n",
    "- `'sizes'` is a list containing tuples, (width, height) representing the the original width and height the image.\n",
    "- `'coords'` is a list containing tuples, (x1, y1, x2, y2) representing coordinates of a bounding box around the sign in the image. **THESE COORDINATES ASSUME THE ORIGINAL IMAGE. THE PICKLED DATA CONTAINS RESIZED VERSIONS (32 by 32) OF THESE IMAGES**\n",
    "\n",
    "Complete the basic data summary below."
   ]
  },
  {
   "cell_type": "code",
   "execution_count": 7,
   "metadata": {
    "collapsed": false
   },
   "outputs": [
    {
     "name": "stdout",
     "output_type": "stream",
     "text": [
      "Number of training examples = 39209\n",
      "Number of testing examples = 12630\n",
      "Image data shape = (32, 32)\n",
      "Number of classes = 43\n"
     ]
    }
   ],
   "source": [
    "### Replace each question mark with the appropriate value.\n",
    "\n",
    "# TODO: Number of training examples\n",
    "n_train = X_train.shape[0]\n",
    "\n",
    "# TODO: Number of testing examples.\n",
    "n_test = X_test.shape[0]\n",
    "\n",
    "# TODO: What's the shape of an traffic sign image?\n",
    "image_shape = X_train.shape[1:3]\n",
    "\n",
    "# TODO: How many unique classes/labels there are in the dataset.\n",
    "n_classes = labels.shape[0]\n",
    "\n",
    "print(\"Number of training examples =\", n_train)\n",
    "print(\"Number of testing examples =\", n_test)\n",
    "print(\"Image data shape =\", image_shape)\n",
    "print(\"Number of classes =\", n_classes)"
   ]
  },
  {
   "cell_type": "markdown",
   "metadata": {},
   "source": [
    "Visualize the German Traffic Signs Dataset using the pickled file(s). This is open ended, suggestions include: plotting traffic sign images, plotting the count of each sign, etc.\n",
    "\n",
    "The [Matplotlib](http://matplotlib.org/) [examples](http://matplotlib.org/examples/index.html) and [gallery](http://matplotlib.org/gallery.html) pages are a great resource for doing visualizations in Python.\n",
    "\n",
    "**NOTE:** It's recommended you start with something simple first. If you wish to do more, come back to it after you've completed the rest of the sections."
   ]
  },
  {
   "cell_type": "code",
   "execution_count": 8,
   "metadata": {
    "collapsed": false
   },
   "outputs": [
    {
     "data": {
      "image/png": "[encoded data removed]",
      "text/plain": [
       "<matplotlib.figure.Figure at 0x7f3e1e16ba90>"
      ]
     },
     "metadata": {},
     "output_type": "display_data"
    }
   ],
   "source": [
    "### Data exploration visualization goes here.\n",
    "### Feel free to use as many code cells as needed.\n",
    "import matplotlib.pyplot as plt\n",
    "# Visualizations will be shown in the notebook.\n",
    "%matplotlib inline\n",
    "\n",
    "import random\n",
    "\n",
    "fig = plt.figure()\n",
    "\n",
    "i = 1\n",
    "for index in labels_indices:\n",
    "    #print('i={}, index={}'.format(i, index)) ### can't have prints in this loop or image does not display\n",
    "    \n",
    "    a = fig.add_subplot(5,10,i)\n",
    "    image = X_train[index].squeeze()\n",
    "\n",
    "    plt.imshow(image)\n",
    "    i += 1\n",
    "    \n",
    "# plt.show()"
   ]
  },
  {
   "cell_type": "code",
   "execution_count": 9,
   "metadata": {
    "collapsed": false
   },
   "outputs": [
    {
     "data": {
      "image/png": "[encoded data removed]",
      "text/plain": [
       "<matplotlib.figure.Figure at 0x7f3e194edb00>"
      ]
     },
     "metadata": {},
     "output_type": "display_data"
    }
   ],
   "source": [
    "import matplotlib.pyplot as plt\n",
    "# Visualizations will be shown in the notebook.\n",
    "%matplotlib inline\n",
    "indexes = np.arange(len(labels))\n",
    "\n",
    "plt.xticks(indexes + 0.35, labels)\n",
    "plt.ylabel('Number of Signs')\n",
    "plt.xlabel('Traffic Sign Labels')\n",
    "\n",
    "width = 0.6\n",
    "plt.bar(indexes, labels_counts, width )\n",
    "plt.subplots_adjust(bottom=0.1, right=1.6, top=0.9)\n",
    "\n",
    "plt.title('Number of Traffic Signs')\n",
    "plt.show()"
   ]
  },
  {
   "cell_type": "markdown",
   "metadata": {},
   "source": [
    "----\n",
    "\n",
    "## Step 2: Design and Test a Model Architecture\n",
    "\n",
    "Design and implement a deep learning model that learns to recognize traffic signs. Train and test your model on the [German Traffic Sign Dataset](http://benchmark.ini.rub.de/?section=gtsrb&subsection=dataset).\n",
    "\n",
    "There are various aspects to consider when thinking about this problem:\n",
    "\n",
    "- Neural network architecture\n",
    "- Play around preprocessing techniques (normalization, rgb to grayscale, etc)\n",
    "- Number of examples per label (some have more than others).\n",
    "- Generate fake data.\n",
    "\n",
    "Here is an example of a [published baseline model on this problem](http://yann.lecun.com/exdb/publis/pdf/sermanet-ijcnn-11.pdf). It's not required to be familiar with the approach used in the paper but, it's good practice to try to read papers like these.\n",
    "\n",
    "**NOTE:** The LeNet-5 implementation shown in the [classroom](https://classroom.udacity.com/nanodegrees/nd013/parts/fbf77062-5703-404e-b60c-95b78b2f3f9e/modules/6df7ae49-c61c-4bb2-a23e-6527e69209ec/lessons/601ae704-1035-4287-8b11-e2c2716217ad/concepts/d4aca031-508f-4e0b-b493-e7b706120f81) at the end of the CNN lesson is a solid starting point. You'll have to change the number of classes and possibly the preprocessing, but aside from that it's plug and play!"
   ]
  },
  {
   "cell_type": "markdown",
   "metadata": {},
   "source": [
    "### Implementation\n",
    "\n",
    "Use the code cell (or multiple code cells, if necessary) to implement the first step of your project. Once you have completed your implementation and are satisfied with the results, be sure to thoroughly answer the questions that follow."
   ]
  },
  {
   "cell_type": "code",
   "execution_count": 10,
   "metadata": {
    "collapsed": false
   },
   "outputs": [],
   "source": [
    "### Preprocess the data here.\n",
    "\n",
    "import tensorflow as tf\n"
   ]
  },
  {
   "cell_type": "code",
   "execution_count": 11,
   "metadata": {
    "collapsed": false
   },
   "outputs": [],
   "source": [
    "# # convert to grayscale\n",
    "\n",
    "# # rgb2gray function calculates gray value by weighting rgb values differently to match human perception?\n",
    "# def rgb2gray_weighted(rgb):\n",
    "#     r, g, b = rgb[:,:,0], rgb[:,:,1], rgb[:,:,2]\n",
    "#     gray = 0.2989 * r + 0.5870 * g + 0.1140 * b\n",
    "#     return gray\n",
    "\n",
    "# # simple averaging of rgb channels (r+g+b)/3\n",
    "# def rgb2gray(rgb):\n",
    "#     rgb = np.mean(rgb, axis=3,dtype=int)\n",
    "    \n",
    "#     # wrap value in own array, because? so that it is a one channel array\n",
    "#     # started out with shape (39209, 32, 32, 3), end up with shape (39209, 32, 32, 1)\n",
    "#     # without the resize, it is shape (39209, 32, 32)\n",
    "#     rgb.resize([rgb.shape[0],rgb.shape[1],rgb.shape[2],1])\n",
    "#     return rgb"
   ]
  },
  {
   "cell_type": "code",
   "execution_count": 12,
   "metadata": {
    "collapsed": false
   },
   "outputs": [],
   "source": [
    "# # convert train set to gray scale\n",
    "# print('X_train[0].shape={}, X_train[0]={}'.format(X_train[0].shape, X_train[0][0][0:3]))\n",
    "\n",
    "# X_train = rgb2gray(X_train)\n",
    "\n",
    "# print('after resize X_train.shape={}'.format(X_train.shape))\n",
    "# print('X_train[0].shape={}, X_train[0]={}'.format(X_train[0].shape, X_train[0][0][0:3]))"
   ]
  },
  {
   "cell_type": "code",
   "execution_count": 13,
   "metadata": {
    "collapsed": false
   },
   "outputs": [
    {
     "name": "stdout",
     "output_type": "stream",
     "text": [
      "X_test.shape=(12630, 32, 32, 3), y_test.shape=(12630,)\n"
     ]
    }
   ],
   "source": [
    "X_test, y_test = test['features'], test['labels']\n",
    "print('X_test.shape={}, y_test.shape={}'.format(X_test.shape, y_test.shape))"
   ]
  },
  {
   "cell_type": "code",
   "execution_count": 14,
   "metadata": {
    "collapsed": false
   },
   "outputs": [],
   "source": [
    "# # convert test set to gray scale\n",
    "# print('before resize X_test.shape={}'.format(X_test.shape))\n",
    "# print('X_test[0].shape={}, X_test[0]={}'.format(X_test[0].shape, X_test[0][0][0:3]))\n",
    "\n",
    "# X_test = rgb2gray(X_test)\n",
    "\n",
    "# print('after resize X_test.shape={}'.format(X_test.shape))\n",
    "# print('X_test[0].shape={}, X_test[0]={}'.format(X_test[0].shape, X_test[0][0][0:3]))"
   ]
  },
  {
   "cell_type": "code",
   "execution_count": 15,
   "metadata": {
    "collapsed": false
   },
   "outputs": [],
   "source": [
    "# # normalize and scale\n",
    "\n",
    "# # 8 bit value 0-255, \n",
    "# # normalize by subtracting mean 255/2, \n",
    "# # scale by dividing by 255 (so value range is -0.5 to 0.5)\n",
    "# # TODO: try scaling to range 0.0 to 1.0 (positive range)\n",
    "# def normalize_grayscale(image_data):\n",
    "#     return (image_data - 255/2)/255\n",
    "    \n",
    "# X_train = normalize_grayscale( X_train )\n",
    "# print('X_train.shape={}'.format(X_train.shape))\n",
    "# # print('X_train[0]={}'.format(X_train[0][0]))\n",
    "\n",
    "# # process test data set the same way\n",
    "# X_test = normalize_grayscale( X_test )\n",
    "# print('X_test[0]={}'.format(X_test[0][0]))"
   ]
  },
  {
   "cell_type": "markdown",
   "metadata": {},
   "source": [
    "### Question 1 \n",
    "\n",
    "_Describe how you preprocessed the data. Why did you choose that technique?_"
   ]
  },
  {
   "cell_type": "markdown",
   "metadata": {},
   "source": [
    "**Answer:**\n",
    "Used 3 channel color encoding as read from data set.\n",
    "\n",
    "Initially tried __Gray scale__ because of referenced paper mentioned it gave better results.\n",
    "But later issues with prediction feed_dict was reason for reversion to 3-channel,\n",
    "will try gray scale again in future.\n",
    "\n",
    "Should also try __Normalize__ and __scale__ because it could lead to better gradient descent behavior.\n"
   ]
  },
  {
   "cell_type": "code",
   "execution_count": 16,
   "metadata": {
    "collapsed": false
   },
   "outputs": [],
   "source": [
    "### Generate additional data (OPTIONAL!)\n",
    "# train set is very uneven, some labels have few examples,\n",
    "# can generate more samples by jingling existing samples via translation x,y axis,\n",
    "# and or expand/contract size\n",
    "\n",
    "### and split the data into training/validation/testing sets here.\n",
    "\n",
    "\n",
    "### Feel free to use as many code cells as needed."
   ]
  },
  {
   "cell_type": "markdown",
   "metadata": {},
   "source": [
    "### Shuffle the data before Splitting\n",
    "The data read in is in contiguous classes.\n",
    "If it is not shuffled before splitting, the data will be very unbalanced between train and validation sets.\n",
    "Also, if it is not shuffled before training, the batched data will be very uniform and lead to very biased weights towards the classes seen so far."
   ]
  },
  {
   "cell_type": "code",
   "execution_count": 17,
   "metadata": {
    "collapsed": true
   },
   "outputs": [],
   "source": [
    "from sklearn.utils import shuffle\n",
    "\n",
    "X_train, y_train = shuffle(X_train, y_train)"
   ]
  },
  {
   "cell_type": "code",
   "execution_count": 18,
   "metadata": {
    "collapsed": false
   },
   "outputs": [
    {
     "name": "stdout",
     "output_type": "stream",
     "text": [
      "labels=[ 0  1  2  3  4  5  6  7  8  9 10 11 12 13 14 15 16 17 18 19 20 21 22 23 24\n",
      " 25 26 27 28 29 30 31 32 33 34 35 36 37 38 39 40 41 42]\n",
      "labels_counts=[ 210 2220 2250 1410 1980 1860  420 1440 1410 1470 2010 1320 2100 2160  780\n",
      "  630  420 1110 1200  210  360  330  390  510  270 1500  600  240  540  270\n",
      "  450  780  240  689  420 1200  390  210 2070  300  360  240  240]\n",
      "labels_indices=[1127    1    2    5    8   20  267  107   37   21    6   12   80   25   67\n",
      "   73   15    3   10  291   27   43   14   54   42   57   59  125    0   61\n",
      "   51  151   88   30   31   32   86   38    7  177   77  113   75]\n"
     ]
    }
   ],
   "source": [
    "# see what data looks like after shuffle\n",
    "labels, labels_indices, labels_counts = np.unique(y_train, return_index=True, return_counts=True)\n",
    "print('labels={}'.format(labels))\n",
    "print('labels_counts={}'.format(labels_counts))\n",
    "print('labels_indices={}'.format(labels_indices))"
   ]
  },
  {
   "cell_type": "code",
   "execution_count": 19,
   "metadata": {
    "collapsed": false
   },
   "outputs": [
    {
     "name": "stdout",
     "output_type": "stream",
     "text": [
      "before split: X_train.shape=(39209, 32, 32, 3),y_train.shape=(39209,)\n",
      "after split: X_train.shape=(37248, 32, 32, 3),X_train.shape=(37248,)\n"
     ]
    }
   ],
   "source": [
    "# split out training set into train and validation set\n",
    "# don't touch test set\n",
    "\n",
    "print('before split: X_train.shape={},y_train.shape={}'.format(X_train.shape, y_train.shape))\n",
    "# from sklearn.model_selection import train_test_split\n",
    "from sklearn.model_selection import train_test_split\n",
    "X_train, X_valid, y_train, y_valid = train_test_split(X_train, y_train, test_size = 0.05, random_state=832289)\n",
    "print('after split: X_train.shape={},X_train.shape={}'.format(X_train.shape, y_train.shape))"
   ]
  },
  {
   "cell_type": "markdown",
   "metadata": {},
   "source": [
    "### Question 2\n",
    "\n",
    "_Describe how you set up the training, validation and testing data for your model. **Optional**: If you generated additional data, how did you generate the data? Why did you generate the data? What are the differences in the new dataset (with generated data) from the original dataset?_"
   ]
  },
  {
   "cell_type": "markdown",
   "metadata": {},
   "source": [
    "**Answer:**\n",
    "The original test set is not touched for training.\n",
    "The training set is split into a training and validation set.\n",
    "Default value of validation (test) set size is 25% for sklearn train_test_split function,\n",
    "chose 0.05% to have more training examples\n",
    "\n",
    "Data should be generated for classes that have few training examples."
   ]
  },
  {
   "cell_type": "code",
   "execution_count": 20,
   "metadata": {
    "collapsed": true
   },
   "outputs": [],
   "source": [
    "### Define your architecture here.\n",
    "from tensorflow.contrib.layers import flatten\n",
    "\n",
    "def LeNet(x, dropout):    \n",
    "    \n",
    "    #Y Reshape from 2D to 4D. This prepares the data for\n",
    "    #Y convolutional and pooling layers.\n",
    "    ##YH already in correct shape? (37248, 32, 32, 3)\n",
    "    #     x = tf.reshape(x, (-1, 32, 32, 3))\n",
    "    \n",
    "    \n",
    "    # Arguments used for tf.truncated_normal, randomly defines variables for the weights and biases for each layer\n",
    "    mu = 0\n",
    "    sigma = 0.1\n",
    "    \n",
    "    # TODO: Layer 1: Convolutional. Input = 32x32x3. Output = 28x28x6.\n",
    "    # set weights\n",
    "    wc1 = tf.Variable(tf.truncated_normal([5, 5, 3, 6], mu, sigma, name='wc1'))\n",
    "    strides = 1\n",
    "    \n",
    "    # process convolution\n",
    "    x = tf.nn.conv2d(x, wc1, strides=[1, strides, strides, 1], padding='VALID')\n",
    "    \n",
    "    # add bias\n",
    "    bc1 = tf.Variable(tf.truncated_normal([6], mu, sigma, name='bc1'))\n",
    "    x = tf.nn.bias_add(x, bc1)\n",
    "\n",
    "    # TODO: Activation. relu = rectificed linear unit\n",
    "    x = tf.nn.relu(x)\n",
    "\n",
    "    # TODO: Pooling. Input = 28x28x6. Output = 14x14x6.\n",
    "    k = 2\n",
    "    x = tf.nn.max_pool(\n",
    "        x,\n",
    "        ksize=[1, k, k, 1],\n",
    "        strides=[1, k, k, 1],\n",
    "        padding='VALID')\n",
    "\n",
    "    # TODO: Layer 2: Convolutional. Output = 10x10x16.\n",
    "    wc2 = tf.Variable(tf.truncated_normal([5, 5, 6, 16], mu, sigma, name='wc2'))\n",
    "    strides = 1\n",
    "    x = tf.nn.conv2d(x, wc2, strides=[1, strides, strides, 1], padding='VALID')\n",
    "    \n",
    "    bc2 = tf.Variable(tf.truncated_normal([16], mu, sigma, name='bc2'))\n",
    "    x = tf.nn.bias_add(x, bc2)\n",
    "    \n",
    "    # TODO: Activation.\n",
    "    x = tf.nn.relu(x)\n",
    "\n",
    "    # TODO: Pooling. Input = 10x10x16. Output = 5x5x16.\n",
    "    k = 2\n",
    "    x = tf.nn.max_pool(\n",
    "        x,\n",
    "        ksize=[1, k, k, 1],\n",
    "        strides=[1, k, k, 1],\n",
    "        padding='VALID')\n",
    "\n",
    "    # TODO: Flatten. Input = 5x5x16. Output = 400.\n",
    "    \n",
    "    # reshape x as 2d matrix, tf.reshape with shape param with axis -1 infers size\n",
    "    # so reshape with shape = [-1,400] reshapes input tensor to rows with col size = 400\n",
    "    x = tf.reshape(x, [-1, 400])\n",
    "    \n",
    "    # TODO: Layer 3: Fully Connected. Input = 400. Output = 120.\n",
    "    wd1 = tf.Variable(tf.truncated_normal([5*5*16, 120], mu, sigma, name='wd1'))\n",
    "    bd1 = tf.Variable(tf.truncated_normal([120], mu, sigma, name='bd1'))\n",
    "    x = tf.add(tf.matmul(x, wd1), bd1)\n",
    "\n",
    "    # TODO: Activation.\n",
    "    x = tf.nn.relu(x)\n",
    "    \n",
    "    #YH TODO: try dropout?\n",
    "    x = tf.nn.dropout(x, dropout)\n",
    "    \n",
    "    # TODO: Layer 4: Fully Connected. Input = 120. Output = 84.\n",
    "    wd2 = tf.Variable(tf.truncated_normal([120, 84], mu, sigma, name='wd2'))\n",
    "    bd2 = tf.Variable(tf.truncated_normal([84], mu, sigma, name='bd2'))\n",
    "    x = tf.add(tf.matmul(x, wd2), bd2)\n",
    "    \n",
    "    # TODO: Activation.\n",
    "    x = tf.nn.relu(x)\n",
    "    x = tf.nn.dropout(x, dropout)\n",
    "\n",
    "    # TODO: Layer 5: Fully Connected. Input = 84. Output = 43.\n",
    "    # 43 classes\n",
    "    classes = 43\n",
    "    wd3 = tf.Variable(tf.truncated_normal([84, classes], mu, sigma, name='wd3'))\n",
    "    bd3 = tf.Variable(tf.truncated_normal([classes], mu, sigma, name='bd3'))\n",
    "    x = tf.add(tf.matmul(x, wd3), bd3)\n",
    "    \n",
    "    return x"
   ]
  },
  {
   "cell_type": "markdown",
   "metadata": {},
   "source": [
    "### Question 3\n",
    "\n",
    "_What does your final architecture look like? (Type of model, layers, sizes, connectivity, etc.)  For reference on how to build a deep neural network using TensorFlow, see [Deep Neural Network in TensorFlow\n",
    "](https://classroom.udacity.com/nanodegrees/nd013/parts/fbf77062-5703-404e-b60c-95b78b2f3f9e/modules/6df7ae49-c61c-4bb2-a23e-6527e69209ec/lessons/b516a270-8600-4f93-a0a3-20dfeabe5da6/concepts/83a3a2a2-a9bd-4b7b-95b0-eb924ab14432) from the classroom._\n"
   ]
  },
  {
   "cell_type": "markdown",
   "metadata": {},
   "source": [
    "**Answer:**\n",
    "\n",
    "This project uses the archictecture from LeNet Lab as the starting point.\n",
    "\n",
    "### Architecture Pipeline:\n",
    "\n",
    "- Input 32x32x3: i.e. 3 channel color images as input\n",
    "- Convolution Layer patch size 5x5x3 with 6 filters and 'VALID' (no) padding producing 28x28x6 outputs\n",
    "-- convolution layers are used to detect features at each level, going from fine to coarse.\n",
    "- activation layer using Relu (rectified linear unit) which is the simplest non-linear activation function. It should also be suited for a large input ranges (versus 0 to 1 for sigmoid activation or -1 to 1 for tanh activation functions)\n",
    "- max pool 2x2 kernel, 2x2 stride: max pooling is usually used to reduce overfitting, but we may not want it here\n",
    "- conv 5x5 patch size with 6 filters, reducing outputs down to 14x14x6, the second convolution layer is used to produce higher level features.\n",
    "- activation: another Relu\n",
    "- max pooling, again 2x2 kernel, 2x2 stride, may not want this here either\n",
    "- flatten to 400 nodes in prep for fully connected layers to follow\n",
    "- fully connected layer from 400 nodes to 120\n",
    "- activation, do another Relu\n",
    "- fully connected layer 120 -> 84 nodes\n",
    "- activation: Relu\n",
    "- fully connected layer 84 -> 43 to the number of classes"
   ]
  },
  {
   "cell_type": "code",
   "execution_count": 21,
   "metadata": {
    "collapsed": true
   },
   "outputs": [],
   "source": [
    "### Train your model here.\n",
    "### Feel free to use as many code cells as needed."
   ]
  },
  {
   "cell_type": "code",
   "execution_count": 22,
   "metadata": {
    "collapsed": true
   },
   "outputs": [],
   "source": [
    "x = tf.placeholder(tf.float32, (None, 32, 32, 3))\n",
    "y = tf.placeholder(tf.int32, (None))\n",
    "keep_prob = tf.placeholder(tf.float32)\n",
    "\n",
    "# one hot encode labels, depth = num classes = 43 \n",
    "one_hot_y = tf.one_hot(y, 43)"
   ]
  },
  {
   "cell_type": "code",
   "execution_count": 23,
   "metadata": {
    "collapsed": true
   },
   "outputs": [],
   "source": [
    "# training pipeline\n",
    "# Create a training pipeline that uses the model to classify traffic signs data.\n",
    "\n",
    "rate = 0.0001\n",
    "\n",
    "logits = LeNet(x, keep_prob)\n",
    "prediction = tf.nn.softmax(logits) # Computes softmax activations.\n",
    "cross_entropy = tf.nn.softmax_cross_entropy_with_logits(logits, one_hot_y)\n",
    "loss_operation = tf.reduce_mean(cross_entropy)\n",
    "optimizer = tf.train.AdamOptimizer(learning_rate = rate)\n",
    "training_operation = optimizer.minimize(loss_operation)"
   ]
  },
  {
   "cell_type": "code",
   "execution_count": 24,
   "metadata": {
    "collapsed": true
   },
   "outputs": [],
   "source": [
    "# model evaluation\n",
    "# Evaluate how well the loss and accuracy of the model for a given dataset.\n",
    "\n",
    "correct_prediction = tf.equal(tf.argmax(logits, 1), tf.argmax(one_hot_y, 1))\n",
    "accuracy_operation = tf.reduce_mean(tf.cast(correct_prediction, tf.float32))\n",
    "\n",
    "# Variables saver\n",
    "# adds save and restore ops to the graph for all of the variables in the graph\n",
    "saver = tf.train.Saver()\n",
    "\n",
    "def evaluate(X_data, y_data):\n",
    "    num_examples = len(X_data)\n",
    "    total_accuracy = 0\n",
    "    sess = tf.get_default_session()\n",
    "    for offset in range(0, num_examples, BATCH_SIZE):\n",
    "        batch_x, batch_y = X_data[offset:offset+BATCH_SIZE], y_data[offset:offset+BATCH_SIZE]\n",
    "        accuracy = sess.run(accuracy_operation, feed_dict={x: batch_x, y: batch_y, keep_prob: 1.0})\n",
    "        total_accuracy += (accuracy * len(batch_x))\n",
    "    return total_accuracy / num_examples"
   ]
  },
  {
   "cell_type": "code",
   "execution_count": 25,
   "metadata": {
    "collapsed": false
   },
   "outputs": [
    {
     "name": "stdout",
     "output_type": "stream",
     "text": [
      "WARNING:tensorflow:From <ipython-input-25-440d44b0af2b>:8 in <module>.: initialize_all_variables (from tensorflow.python.ops.variables) is deprecated and will be removed after 2017-03-02.\n",
      "Instructions for updating:\n",
      "Use `tf.global_variables_initializer` instead.\n",
      "Training...\n",
      "\n",
      "EPOCH 1 ...\n",
      "Validation Accuracy = 0.999\n",
      "\n",
      "EPOCH 2 ...\n",
      "Validation Accuracy = 0.999\n",
      "\n",
      "EPOCH 3 ...\n",
      "Validation Accuracy = 0.999\n",
      "\n",
      "EPOCH 4 ...\n",
      "Validation Accuracy = 0.999\n",
      "\n",
      "EPOCH 5 ...\n",
      "Validation Accuracy = 0.998\n",
      "\n",
      "EPOCH 6 ...\n",
      "Validation Accuracy = 0.999\n",
      "\n",
      "EPOCH 7 ...\n",
      "Validation Accuracy = 0.998\n",
      "\n",
      "EPOCH 8 ...\n",
      "Validation Accuracy = 0.999\n",
      "\n",
      "EPOCH 9 ...\n",
      "Validation Accuracy = 0.997\n",
      "\n",
      "EPOCH 10 ...\n",
      "Validation Accuracy = 0.998\n",
      "\n",
      "Model saved in file: lenet_3channel_dropout\n"
     ]
    }
   ],
   "source": [
    "# train model\n",
    "\n",
    "EPOCHS = 10\n",
    "BATCH_SIZE = 128\n",
    "DROP_OUT = 0.75\n",
    "\n",
    "with tf.Session() as sess:\n",
    "    sess.run(tf.initialize_all_variables())\n",
    "    saver.restore(sess, tf.train.latest_checkpoint('.'))\n",
    "    # saver.restore(sess, 'lenet_3channel')\n",
    "    # saver.restore(sess, 'lenet_3channel_dropout')\n",
    "    num_examples = len(X_train)\n",
    "    \n",
    "    print(\"Training...\")\n",
    "    print()\n",
    "    for i in range(EPOCHS):\n",
    "        X_train, y_train = shuffle(X_train, y_train)\n",
    "        for offset in range(0, num_examples, BATCH_SIZE):\n",
    "            end = offset + BATCH_SIZE\n",
    "            batch_x, batch_y = X_train[offset:end], y_train[offset:end]\n",
    "            sess.run(training_operation, feed_dict={x: batch_x, y: batch_y, keep_prob: DROP_OUT})\n",
    "            \n",
    "        validation_accuracy = evaluate(X_valid, y_valid)\n",
    "        print(\"EPOCH {} ...\".format(i+1))\n",
    "        print(\"Validation Accuracy = {:.3f}\".format(validation_accuracy))\n",
    "        print()\n",
    "        \n",
    "    # saves variables to file\n",
    "    save_path = saver.save(sess, 'lenet_3channel_dropout')\n",
    "    print(\"Model saved in file: %s\" % save_path)"
   ]
  },
  {
   "cell_type": "code",
   "execution_count": 26,
   "metadata": {
    "collapsed": false
   },
   "outputs": [
    {
     "name": "stdout",
     "output_type": "stream",
     "text": [
      "Test Accuracy = 0.944\n"
     ]
    }
   ],
   "source": [
    "#evaluate model\n",
    "with tf.Session() as sess:\n",
    "    saver.restore(sess, tf.train.latest_checkpoint('.'))\n",
    "    #saver.restore(sess, 'lenet_3channel_dropout')\n",
    "\n",
    "    test_accuracy = evaluate(X_test, y_test)\n",
    "    print(\"Test Accuracy = {:.3f}\".format(test_accuracy))"
   ]
  },
  {
   "cell_type": "markdown",
   "metadata": {},
   "source": [
    "### TODOS\n",
    "\n",
    "- re-split train/validation sets and re-train to use different training data\n",
    "- use larger than 0.05 split for validation set?"
   ]
  },
  {
   "cell_type": "markdown",
   "metadata": {},
   "source": [
    "### Question 4\n",
    "\n",
    "_How did you train your model? (Type of optimizer, batch size, epochs, hyperparameters, etc.)_\n"
   ]
  },
  {
   "cell_type": "markdown",
   "metadata": {},
   "source": [
    "**Answer:**\n",
    "\n",
    "optimizer: AdamOptimizer\n",
    "\n",
    "batch size: 128\n",
    "\n",
    "epochs: 10\n",
    "\n",
    "learning rate: 0.001"
   ]
  },
  {
   "cell_type": "markdown",
   "metadata": {},
   "source": [
    "### Question 5\n",
    "\n",
    "\n",
    "_What approach did you take in coming up with a solution to this problem? It may have been a process of trial and error, in which case, outline the steps you took to get to the final solution and why you chose those steps. Perhaps your solution involved an already well known implementation or architecture. In this case, discuss why you think this is suitable for the current problem._"
   ]
  },
  {
   "cell_type": "markdown",
   "metadata": {},
   "source": [
    "**Answer:**\n",
    "The initial approach is to use the LeNet architecture since it showed good results for the MNIST data set.\n",
    "The next iteration would attempt the architecture outlined in the reference paper by LeCunn for the traffic signs problem."
   ]
  },
  {
   "cell_type": "markdown",
   "metadata": {},
   "source": [
    "---\n",
    "\n",
    "## Step 3: Test a Model on New Images\n",
    "\n",
    "Take several pictures of traffic signs that you find on the web or around you (at least five), and run them through your classifier on your computer to produce example results. The classifier might not recognize some local signs but it could prove interesting nonetheless.\n",
    "\n",
    "You may find `signnames.csv` useful as it contains mappings from the class id (integer) to the actual sign name."
   ]
  },
  {
   "cell_type": "markdown",
   "metadata": {},
   "source": [
    "### Implementation\n",
    "\n",
    "Use the code cell (or multiple code cells, if necessary) to implement the first step of your project. Once you have completed your implementation and are satisfied with the results, be sure to thoroughly answer the questions that follow."
   ]
  },
  {
   "cell_type": "code",
   "execution_count": 27,
   "metadata": {
    "collapsed": true
   },
   "outputs": [],
   "source": [
    "### Load the images and plot them here.\n",
    "### Feel free to use as many code cells as needed."
   ]
  },
  {
   "cell_type": "code",
   "execution_count": 28,
   "metadata": {
    "collapsed": false
   },
   "outputs": [
    {
     "name": "stdout",
     "output_type": "stream",
     "text": [
      "(32, 32, 3) uint8\n"
     ]
    },
    {
     "data": {
      "image/png": "[encoded data removed]",
      "text/plain": [
       "<matplotlib.figure.Figure at 0x7f3e4c1c7588>"
      ]
     },
     "metadata": {},
     "output_type": "display_data"
    }
   ],
   "source": [
    "# JPEG images are 3 channel RGB images consistent with input data, so are easiest to deal with,\n",
    "# PNG have a 4th transparency channel, so need a bit more processing\n",
    "\n",
    "import matplotlib.pyplot as plt \n",
    "%matplotlib inline\n",
    "\n",
    "img_dir = \"/home/carnd/signs/\"\n",
    "\n",
    "image_files = ['stop.jpeg', 'speed50.jpeg', 'speed120.jpeg', 'keep_right.jpeg', 'road_work.jpeg']\n",
    "image_labels = [14,2,8,38,25]\n",
    "images = []\n",
    "\n",
    "fig = plt.figure()\n",
    "\n",
    "i = 0\n",
    "for file in image_files:\n",
    "    path = img_dir + file\n",
    "    images.append( plt.imread(path) )\n",
    "    #print('i={}, index={}'.format(i, index)) ### can't have prints in this loop or image does not display\n",
    "    \n",
    "    a = fig.add_subplot(5,10,i+1)\n",
    "    image = images[i].squeeze()\n",
    "\n",
    "    plt.imshow(image)\n",
    "    i += 1\n",
    "    \n",
    "print(images[0].shape, images[0].dtype)"
   ]
  },
  {
   "cell_type": "code",
   "execution_count": 29,
   "metadata": {
    "collapsed": false
   },
   "outputs": [
    {
     "name": "stdout",
     "output_type": "stream",
     "text": [
      "imgs.shape=(5, 32, 32, 3), imgs.dtype=uint8\n"
     ]
    }
   ],
   "source": [
    "# prep images data into 4D shape (-1,32,32,3) to match model\n",
    "imgs = np.array(images)\n",
    "print('imgs.shape={}, imgs.dtype={}'.format( imgs.shape, imgs.dtype ))"
   ]
  },
  {
   "cell_type": "markdown",
   "metadata": {},
   "source": [
    "### Question 6\n",
    "\n",
    "_Choose five candidate images of traffic signs and provide them in the report. Are there any particular qualities of the image(s) that might make classification difficult? It could be helpful to plot the images in the notebook._\n",
    "\n"
   ]
  },
  {
   "cell_type": "markdown",
   "metadata": {},
   "source": [
    "**Answer:**"
   ]
  },
  {
   "cell_type": "markdown",
   "metadata": {},
   "source": [
    "Images that are similar are difficult to differentiate,\n",
    "e.g. the speed limit signs look that same except for a single digit inside a circle.\n",
    "\n",
    "A possible strategy is to use two stages of pipelines.\n",
    "1. classify into broad classes: red circular speed limits, triangular warnings, blue circular direction signs\n",
    "2. subsequent stage, refine broad classes, e.g. take signs classified as speed limits and refine into different speed classes."
   ]
  },
  {
   "cell_type": "code",
   "execution_count": 30,
   "metadata": {
    "collapsed": false
   },
   "outputs": [
    {
     "name": "stdout",
     "output_type": "stream",
     "text": [
      "softmax probabilities=[[  6.57803253e-30   1.31178023e-30   1.09054350e-25   1.91598012e-32\n",
      "    8.33834604e-30   5.49312229e-34   0.00000000e+00   0.00000000e+00\n",
      "    0.00000000e+00   2.88264187e-32   0.00000000e+00   5.20235475e-25\n",
      "    1.81158538e-33   3.25512325e-28   1.00000000e+00   3.25775775e-35\n",
      "    0.00000000e+00   1.59970724e-25   1.13429299e-25   0.00000000e+00\n",
      "    5.42334209e-37   3.87139454e-30   0.00000000e+00   0.00000000e+00\n",
      "    1.62394629e-38   1.10024205e-25   0.00000000e+00   1.55811553e-31\n",
      "    0.00000000e+00   8.52807798e-30   0.00000000e+00   2.23558875e-37\n",
      "    0.00000000e+00   0.00000000e+00   5.52671541e-32   9.98030213e-30\n",
      "    0.00000000e+00   0.00000000e+00   1.37290255e-26   0.00000000e+00\n",
      "    0.00000000e+00   0.00000000e+00   0.00000000e+00]\n",
      " [  2.23156933e-23   1.45941437e-09   3.14562842e-02   1.07695385e-07\n",
      "    6.16781779e-15   9.68543530e-01   7.77188789e-20   2.26953612e-12\n",
      "    1.27347898e-18   1.40971873e-28   2.78590259e-15   9.63045690e-18\n",
      "    1.20251243e-27   2.01782497e-15   2.73083546e-19   1.40453433e-19\n",
      "    3.83625801e-26   6.46677493e-38   4.45705719e-16   1.48389376e-31\n",
      "    4.43399757e-22   8.32754672e-16   5.14015204e-30   9.39520319e-27\n",
      "    2.90257445e-17   6.85439864e-14   4.22779944e-24   7.84100093e-21\n",
      "    8.46132601e-25   5.28934059e-21   2.15375455e-24   1.73240468e-19\n",
      "    3.67300866e-31   2.15669690e-25   4.01185078e-31   1.11549862e-20\n",
      "    1.35399590e-30   1.31015111e-31   9.54384280e-28   4.88778685e-31\n",
      "    5.03099515e-29   8.85110145e-33   7.83969918e-25]\n",
      " [  1.00000000e+00   8.63757815e-11   3.17804427e-21   2.40358029e-25\n",
      "    6.74331910e-11   9.85540939e-16   2.07160266e-27   9.88774729e-18\n",
      "    1.21515315e-11   0.00000000e+00   0.00000000e+00   1.33939908e-30\n",
      "    6.80375836e-33   8.19677007e-31   2.94936097e-23   2.12171702e-34\n",
      "    1.17492851e-26   2.63318541e-35   1.38471639e-25   0.00000000e+00\n",
      "    6.95696981e-28   1.97141652e-31   2.76645065e-33   1.26826683e-31\n",
      "    2.10548679e-19   5.47943586e-26   0.00000000e+00   7.63862266e-32\n",
      "    6.14157338e-33   1.49063654e-17   1.57241318e-27   4.43138091e-17\n",
      "    1.09126108e-22   0.00000000e+00   2.42477529e-29   2.80953494e-32\n",
      "    1.33701025e-37   1.48664628e-37   4.09671908e-23   0.00000000e+00\n",
      "    2.51776250e-37   0.00000000e+00   2.36044647e-33]\n",
      " [  0.00000000e+00   0.00000000e+00   0.00000000e+00   0.00000000e+00\n",
      "    0.00000000e+00   0.00000000e+00   0.00000000e+00   0.00000000e+00\n",
      "    0.00000000e+00   0.00000000e+00   0.00000000e+00   0.00000000e+00\n",
      "    0.00000000e+00   0.00000000e+00   0.00000000e+00   0.00000000e+00\n",
      "    0.00000000e+00   0.00000000e+00   0.00000000e+00   0.00000000e+00\n",
      "    0.00000000e+00   0.00000000e+00   0.00000000e+00   0.00000000e+00\n",
      "    0.00000000e+00   0.00000000e+00   0.00000000e+00   0.00000000e+00\n",
      "    0.00000000e+00   0.00000000e+00   0.00000000e+00   0.00000000e+00\n",
      "    0.00000000e+00   0.00000000e+00   0.00000000e+00   0.00000000e+00\n",
      "    0.00000000e+00   0.00000000e+00   1.00000000e+00   0.00000000e+00\n",
      "    0.00000000e+00   0.00000000e+00   0.00000000e+00]\n",
      " [  3.04104627e-15   1.43450854e-12   2.47384632e-13   1.32851073e-13\n",
      "    2.41683212e-15   5.22061723e-13   1.91132273e-17   1.95994850e-19\n",
      "    3.66521338e-20   7.71699458e-18   2.93886086e-15   6.15545739e-11\n",
      "    2.37270208e-14   6.69047185e-15   1.60897974e-13   8.93378884e-18\n",
      "    8.75113661e-19   4.23393663e-19   3.07265822e-08   2.00425594e-18\n",
      "    2.35040394e-12   1.41270634e-10   4.22583191e-10   1.44981749e-10\n",
      "    4.71411188e-10   1.00000000e+00   1.54600811e-12   5.81807877e-13\n",
      "    1.13220826e-12   8.86690610e-10   1.07240827e-10   1.73725999e-11\n",
      "    5.61450410e-15   1.33780812e-19   1.97445359e-12   2.05134046e-13\n",
      "    1.38054628e-15   1.24866606e-16   1.65661294e-13   3.96345984e-22\n",
      "    1.17201255e-14   4.11316023e-16   3.93688713e-18]]\n",
      "predicted labels=[14  5  0 38 25]\n",
      "[ 1.          0.99999994  1.          1.          1.        ]\n",
      "correct labels=[ True False False  True  True]\n"
     ]
    }
   ],
   "source": [
    "with tf.Session() as sess:\n",
    "  # do not initialize variables are we are restoring them from saved file\n",
    "  # sess.run(tf.initialize_all_variables())\n",
    "    \n",
    "  # restore all variables from specified file\n",
    "  saver.restore(sess, tf.train.latest_checkpoint('.'))\n",
    "  #saver.restore(sess, 'lenet_3channel')\n",
    "  #saver.restore(sess, 'lenet_3channel_dropout')\n",
    "\n",
    "\n",
    "  #resultLogits = sess.run(logits, feed_dict={ x: imgs })\n",
    "  new_images_probs = sess.run(prediction, feed_dict={ x: imgs, keep_prob: 1.0 })\n",
    "  top_3 = sess.run(tf.nn.top_k(tf.constant( new_images_probs ), k=3))\n",
    "\n",
    "print('softmax probabilities={}'.format(new_images_probs))\n",
    "predict_labels = np.argmax(new_images_probs, axis=1)\n",
    "print('predicted labels={}'.format( predict_labels ) )\n",
    "print(np.sum(new_images_probs, axis=1))  \n",
    "print('correct labels={}'.format( np.equal(image_labels, predict_labels) ) )"
   ]
  },
  {
   "cell_type": "markdown",
   "metadata": {},
   "source": [
    "### Question 7\n",
    "\n",
    "_Is your model able to perform equally well on captured pictures when compared to testing on the dataset? The simplest way to do this check the accuracy of the predictions. For example, if the model predicted 1 out of 5 signs correctly, it's 20% accurate._\n",
    "\n",
    "_**NOTE:** You could check the accuracy manually by using `signnames.csv` (same directory). This file has a mapping from the class id (0-42) to the corresponding sign name. So, you could take the class id the model outputs, lookup the name in `signnames.csv` and see if it matches the sign from the image._\n"
   ]
  },
  {
   "cell_type": "markdown",
   "metadata": {},
   "source": [
    "### **Answer:**\n",
    "\n",
    "Model predicted 3 out of 5 correctly.\n",
    "Speed limit signs didn't fare well as they are visually similar.\n",
    "The failures include the 50km/h mis-classed as 80km/h and the 120km/h sign which was predicted as the 20km/h."
   ]
  },
  {
   "cell_type": "code",
   "execution_count": 31,
   "metadata": {
    "collapsed": false
   },
   "outputs": [
    {
     "name": "stdout",
     "output_type": "stream",
     "text": [
      "top_3=TopKV2(values=array([[  1.00000000e+00,   5.20235475e-25,   1.59970724e-25],\n",
      "       [  9.68543530e-01,   3.14562842e-02,   1.07695385e-07],\n",
      "       [  1.00000000e+00,   8.63757815e-11,   6.74331910e-11],\n",
      "       [  1.00000000e+00,   0.00000000e+00,   0.00000000e+00],\n",
      "       [  1.00000000e+00,   3.07265822e-08,   8.86690610e-10]], dtype=float32), indices=array([[14, 11, 17],\n",
      "       [ 5,  2,  3],\n",
      "       [ 0,  1,  4],\n",
      "       [38,  0,  1],\n",
      "       [25, 18, 29]], dtype=int32))\n",
      "top_3.values=[[  1.00000000e+00   5.20235475e-25   1.59970724e-25]\n",
      " [  9.68543530e-01   3.14562842e-02   1.07695385e-07]\n",
      " [  1.00000000e+00   8.63757815e-11   6.74331910e-11]\n",
      " [  1.00000000e+00   0.00000000e+00   0.00000000e+00]\n",
      " [  1.00000000e+00   3.07265822e-08   8.86690610e-10]]\n",
      "top_3.indices=[[14 11 17]\n",
      " [ 5  2  3]\n",
      " [ 0  1  4]\n",
      " [38  0  1]\n",
      " [25 18 29]]\n"
     ]
    }
   ],
   "source": [
    "### Visualize the softmax probabilities here.\n",
    "### Feel free to use as many code cells as needed.\n",
    "print('top_3={}'.format(top_3))\n",
    "print('top_3.values={}'.format(top_3.values))\n",
    "print('top_3.indices={}'.format(top_3.indices))"
   ]
  },
  {
   "cell_type": "markdown",
   "metadata": {},
   "source": [
    "### Question 8\n",
    "\n",
    "*Use the model's softmax probabilities to visualize the **certainty** of its predictions, [`tf.nn.top_k`](https://www.tensorflow.org/versions/r0.12/api_docs/python/nn.html#top_k) could prove helpful here. Which predictions is the model certain of? Uncertain? If the model was incorrect in its initial prediction, does the correct prediction appear in the top k? (k should be 5 at most)*\n",
    "\n",
    "`tf.nn.top_k` will return the values and indices (class ids) of the top k predictions. So if k=3, for each sign, it'll return the 3 largest probabilities (out of a possible 43) and the correspoding class ids.\n",
    "\n",
    "Take this numpy array as an example:\n",
    "\n",
    "```\n",
    "# (5, 6) array\n",
    "a = np.array([[ 0.24879643,  0.07032244,  0.12641572,  0.34763842,  0.07893497,\n",
    "         0.12789202],\n",
    "       [ 0.28086119,  0.27569815,  0.08594638,  0.0178669 ,  0.18063401,\n",
    "         0.15899337],\n",
    "       [ 0.26076848,  0.23664738,  0.08020603,  0.07001922,  0.1134371 ,\n",
    "         0.23892179],\n",
    "       [ 0.11943333,  0.29198961,  0.02605103,  0.26234032,  0.1351348 ,\n",
    "         0.16505091],\n",
    "       [ 0.09561176,  0.34396535,  0.0643941 ,  0.16240774,  0.24206137,\n",
    "         0.09155967]])\n",
    "```\n",
    "\n",
    "Running it through `sess.run(tf.nn.top_k(tf.constant(a), k=3))` produces:\n",
    "\n",
    "```\n",
    "TopKV2(values=array([[ 0.34763842,  0.24879643,  0.12789202],\n",
    "       [ 0.28086119,  0.27569815,  0.18063401],\n",
    "       [ 0.26076848,  0.23892179,  0.23664738],\n",
    "       [ 0.29198961,  0.26234032,  0.16505091],\n",
    "       [ 0.34396535,  0.24206137,  0.16240774]]), indices=array([[3, 0, 5],\n",
    "       [0, 1, 4],\n",
    "       [0, 5, 1],\n",
    "       [1, 3, 5],\n",
    "       [1, 4, 3]], dtype=int32))\n",
    "```\n",
    "\n",
    "Looking just at the first row we get `[ 0.34763842,  0.24879643,  0.12789202]`, you can confirm these are the 3 largest probabilities in `a`. You'll also notice `[3, 0, 5]` are the corresponding indices."
   ]
  },
  {
   "cell_type": "markdown",
   "metadata": {},
   "source": [
    "**Answer:**\n",
    "The model has high certainties for it's top choices despite it's mis-classifications.\n",
    "The top choice all had probabilities > 9.9\n"
   ]
  },
  {
   "cell_type": "markdown",
   "metadata": {},
   "source": [
    "> **Note**: Once you have completed all of the code implementations and successfully answered each question above, you may finalize your work by exporting the iPython Notebook as an HTML document. You can do this by using the menu above and navigating to  \\n\",\n",
    "    \"**File -> Download as -> HTML (.html)**. Include the finished document along with this notebook as your submission."
   ]
  }
 ],
 "metadata": {
  "anaconda-cloud": {},
  "kernelspec": {
   "display_name": "Python 3",
   "language": "python",
   "name": "python3"
  },
  "language_info": {
   "codemirror_mode": {
    "name": "ipython",
    "version": 3
   },
   "file_extension": ".py",
   "mimetype": "text/x-python",
   "name": "python",
   "nbconvert_exporter": "python",
   "pygments_lexer": "ipython3",
   "version": "3.5.2"
  },
  "widgets": {
   "state": {},
   "version": "1.1.2"
  }
 },
 "nbformat": 4,
 "nbformat_minor": 1
}
